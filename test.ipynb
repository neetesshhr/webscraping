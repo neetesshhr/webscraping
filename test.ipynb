{
 "cells": [
  {
   "cell_type": "code",
   "execution_count": 2,
   "metadata": {},
   "outputs": [],
   "source": [
    "import requests\n",
    "from bs4 import BeautifulSoup\n",
    "from selenium import webdriver\n",
    "from selenium.webdriver.chrome.service import Service as ChromeService\n",
    "from webdriver_manager.chrome import ChromeDriverManager\n",
    "from selenium.webdriver.common.by import By"
   ]
  },
  {
   "cell_type": "code",
   "execution_count": 1,
   "metadata": {},
   "outputs": [
    {
     "name": "stdout",
     "output_type": "stream",
     "text": [
      "Defaulting to user installation because normal site-packages is not writeable\n",
      "Collecting flask\n",
      "  Downloading Flask-2.2.2-py3-none-any.whl (101 kB)\n",
      "\u001b[2K     \u001b[90m━━━━━━━━━━━━━━━━━━━━━━━━━━━━━━━━━━━━━\u001b[0m \u001b[32m101.5/101.5 KB\u001b[0m \u001b[31m397.2 kB/s\u001b[0m eta \u001b[36m0:00:00\u001b[0ma \u001b[36m0:00:01\u001b[0m\n",
      "\u001b[?25hCollecting itsdangerous>=2.0\n",
      "  Downloading itsdangerous-2.1.2-py3-none-any.whl (15 kB)\n",
      "Requirement already satisfied: Jinja2>=3.0 in /usr/lib/python3/dist-packages (from flask) (3.0.3)\n",
      "Requirement already satisfied: click>=8.0 in /usr/lib/python3/dist-packages (from flask) (8.0.3)\n",
      "Collecting Werkzeug>=2.2.2\n",
      "  Downloading Werkzeug-2.2.2-py3-none-any.whl (232 kB)\n",
      "\u001b[2K     \u001b[90m━━━━━━━━━━━━━━━━━━━━━━━━━━━━━━━━━━━━━━━\u001b[0m \u001b[32m232.7/232.7 KB\u001b[0m \u001b[31m1.0 MB/s\u001b[0m eta \u001b[36m0:00:00\u001b[0ma \u001b[36m0:00:01\u001b[0m\n",
      "\u001b[?25hCollecting MarkupSafe>=2.1.1\n",
      "  Downloading MarkupSafe-2.1.1-cp310-cp310-manylinux_2_17_x86_64.manylinux2014_x86_64.whl (25 kB)\n",
      "Installing collected packages: MarkupSafe, itsdangerous, Werkzeug, flask\n",
      "Successfully installed MarkupSafe-2.1.1 Werkzeug-2.2.2 flask-2.2.2 itsdangerous-2.1.2\n"
     ]
    }
   ],
   "source": [
    "!pip install flask"
   ]
  },
  {
   "cell_type": "code",
   "execution_count": 10,
   "metadata": {},
   "outputs": [],
   "source": [
    "page = requests.get('https://www.booking.com/searchresults.html?label=gen173nr-1FCAEoggI46AdIM1gEaKsBiAEBmAExuAEZyAEM2AEB6AEB-AECiAIBqAIDuALmp9WcBsACAdICJDljMTk0YTBjLWMwYmUtNDE3NC05ZWUwLWZhYjk5MzM2ZWEyONgCBeACAQ&sid=0028b15b49df734dca79ba302323cc98&sb=1&sb_lp=1&src=index&src_elem=sb&error_url=https%3A%2F%2Fwww.booking.com%2Findex.html%3Flabel%3Dgen173nr-1FCAEoggI46AdIM1gEaKsBiAEBmAExuAEZyAEM2AEB6AEB-AECiAIBqAIDuALmp9WcBsACAdICJDljMTk0YTBjLWMwYmUtNDE3NC05ZWUwLWZhYjk5MzM2ZWEyONgCBeACAQ%26sid%3D0028b15b49df734dca79ba302323cc98%26sb_price_type%3Dtotal%26%26&ss=Kathmandu&is_ski_area=0&ssne=Kathmandu&ssne_untouched=Kathmandu&dest_id=-1022136&dest_type=city&checkin_year=2022&checkin_month=12&checkin_monthday=23&checkout_year=2022&checkout_month=12&checkout_monthday=24&efdco=1&group_adults=2&group_children=0&no_rooms=1&b_h4u_keep_filters=&from_sf=1')\n",
    "soup = BeautifulSoup(page.content, 'html.parser')"
   ]
  },
  {
   "cell_type": "code",
   "execution_count": 16,
   "metadata": {},
   "outputs": [
    {
     "name": "stdout",
     "output_type": "stream",
     "text": [
      "[]\n"
     ]
    }
   ],
   "source": [
    "links = soup.select(\"#search_results_table > div:nth-child(2) > div > div > div > div.d4924c9e74\")\n",
    "print(links[:])"
   ]
  },
  {
   "cell_type": "code",
   "execution_count": 13,
   "metadata": {},
   "outputs": [
    {
     "ename": "AttributeError",
     "evalue": "'list' object has no attribute 'text'",
     "output_type": "error",
     "traceback": [
      "\u001b[0;31m---------------------------------------------------------------------------\u001b[0m",
      "\u001b[0;31mAttributeError\u001b[0m                            Traceback (most recent call last)",
      "\u001b[1;32m/home/rijalboy/Documents/PythonCode/test.ipynb Cell 4\u001b[0m in \u001b[0;36m<cell line: 5>\u001b[0;34m()\u001b[0m\n\u001b[1;32m      <a href='vscode-notebook-cell:/home/rijalboy/Documents/PythonCode/test.ipynb#W3sZmlsZQ%3D%3D?line=0'>1</a>\u001b[0m \u001b[39m# price = soup.find(\"#search_results_table > div:nth-child(2) > div > div > div > div.d4924c9e74 > div:nth-child(3) > div.d20f4628d0 > div.b978843432 > div > div.d7449d770c.a081c98c6f > div.e41894cca1 > div > div.fd1924b122.d4741ba240 > span > div > span.fcab3ed991.fbd1d3018c.e729ed5ab6\")\u001b[39;00m\n\u001b[1;32m      <a href='vscode-notebook-cell:/home/rijalboy/Documents/PythonCode/test.ipynb#W3sZmlsZQ%3D%3D?line=1'>2</a>\u001b[0m \u001b[39m# price = soup.find(\"div\", {\"class\": \"bui-price-display__value prco-inline-block-maker-helper\"})\u001b[39;00m\n\u001b[1;32m      <a href='vscode-notebook-cell:/home/rijalboy/Documents/PythonCode/test.ipynb#W3sZmlsZQ%3D%3D?line=2'>3</a>\u001b[0m \u001b[39m# price = soup.find(\"#search_results_table > div:nth-child(2) > div > div > div > div.d4924c9e74 > div:nth-child(3) > div.d20f4628d0 > div.b978843432 > div > div.d7449d770c.a081c98c6f > div.e41894cca1 > div > div.fd1924b122.d4741ba240\")\u001b[39;00m\n\u001b[0;32m----> <a href='vscode-notebook-cell:/home/rijalboy/Documents/PythonCode/test.ipynb#W3sZmlsZQ%3D%3D?line=4'>5</a>\u001b[0m \u001b[39mprint\u001b[39m(first10\u001b[39m.\u001b[39;49mtext)\n",
      "\u001b[0;31mAttributeError\u001b[0m: 'list' object has no attribute 'text'"
     ]
    }
   ],
   "source": [
    "# price = soup.find(\"#search_results_table > div:nth-child(2) > div > div > div > div.d4924c9e74 > div:nth-child(3) > div.d20f4628d0 > div.b978843432 > div > div.d7449d770c.a081c98c6f > div.e41894cca1 > div > div.fd1924b122.d4741ba240 > span > div > span.fcab3ed991.fbd1d3018c.e729ed5ab6\")\n",
    "# price = soup.find(\"div\", {\"class\": \"bui-price-display__value prco-inline-block-maker-helper\"})\n",
    "# price = soup.find(\"#search_results_table > div:nth-child(2) > div > div > div > div.d4924c9e74 > div:nth-child(3) > div.d20f4628d0 > div.b978843432 > div > div.d7449d770c.a081c98c6f > div.e41894cca1 > div > div.fd1924b122.d4741ba240\")\n",
    "\n",
    "\n"
   ]
  },
  {
   "cell_type": "code",
   "execution_count": null,
   "metadata": {},
   "outputs": [],
   "source": []
  },
  {
   "cell_type": "code",
   "execution_count": 2,
   "metadata": {},
   "outputs": [],
   "source": [
    "option = webdriver.ChromeOptions()"
   ]
  },
  {
   "cell_type": "code",
   "execution_count": 3,
   "metadata": {},
   "outputs": [],
   "source": [
    "option.add_argument('--headless')\n",
    "option.add_argument('--no-sandbox')\n",
    "option.add_argument('--disable-dev-sh-usage')\n",
    "option.add_argument(\"start-maximized\")\n",
    "option.add_experimental_option(\"excludeSwitches\", [\"enable-automation\"])\n",
    "option.add_experimental_option('useAutomationExtension', False)\n",
    "driver = webdriver.Chrome(options=option, service=ChromeService(ChromeDriverManager().install()) )"
   ]
  },
  {
   "cell_type": "code",
   "execution_count": null,
   "metadata": {},
   "outputs": [],
   "source": [
    "# driver.get('https://www.imdb.com/chart/top/')\n",
    "# driver.get(\"https://www.booking.com/searchresults.html?label=gen173nr-1FCAEoggI46AdIM1gEaKsBiAEBmAExuAEZyAEM2AEB6AEB-AECiAIBqAIDuALmp9WcBsACAdICJDljMTk0YTBjLWMwYmUtNDE3NC05ZWUwLWZhYjk5MzM2ZWEyONgCBeACAQ&sid=0028b15b49df734dca79ba302323cc98&sb=1&sb_lp=1&src=index&src_elem=sb&error_url=https%3A%2F%2Fwww.booking.com%2Findex.html%3Flabel%3Dgen173nr-1FCAEoggI46AdIM1gEaKsBiAEBmAExuAEZyAEM2AEB6AEB-AECiAIBqAIDuALmp9WcBsACAdICJDljMTk0YTBjLWMwYmUtNDE3NC05ZWUwLWZhYjk5MzM2ZWEyONgCBeACAQ%26sid%3D0028b15b49df734dca79ba302323cc98%26sb_price_type%3Dtotal%26%26&ss=Kathmandu&is_ski_area=0&ssne=Kathmandu&ssne_untouched=Kathmandu&dest_id=-1022136&dest_type=city&checkin_year=2022&checkin_month=12&checkin_monthday=23&checkout_year=2022&checkout_month=12&checkout_monthday=24&efdco=1&group_adults=2&group_children=0&no_rooms=1&b_h4u_keep_filters=&from_sf=1\")\n",
    "driver.get('https://www.booking.com/hotel/index.html')\n",
    "soup = BeautifulSoup(driver.page_source)\n",
    "print(driver.page_source)\n",
    "# links = soup.find(\"span\", {\"class\": \"fcab3ed991 fbd1d3018c e729ed5ab6\", \"data-testid\":\"price-and-discounted-price\"})\n",
    "# links = soup.find('span', class_ = 'fcab3ed991 fbd1d3018c e729ed5ab6')\n",
    "# links = soup.select(\"#hoteldeals_for_today > div.lp-hotel__deals\")\n",
    "links = soup.find(\"div\", {\"class\": \"bui-price-display__value\"} )\n",
    "# links = soup.select(\"#main > div > span > div > div > div.lister > table\")\n",
    "# links = soup.select(\"#search_results_table > div:nth-child(2) > div > div > div > div.d4924c9e74 > div:nth-child(3) > div.d20f4628d0 > div.b978843432 > div > div.d7449d770c.a081c98c6f > div.e41894cca1 > div > div.fd1924b122.d4741ba240\")\n",
    "# links = soup.select(\"#search_results_table > div:nth-child(2) > div > div > div > div.d4924c9e74\")\n",
    "# print(links.text)\n"
   ]
  },
  {
   "cell_type": "code",
   "execution_count": 18,
   "metadata": {},
   "outputs": [
    {
     "ename": "IndexError",
     "evalue": "list index out of range",
     "output_type": "error",
     "traceback": [
      "\u001b[0;31m---------------------------------------------------------------------------\u001b[0m",
      "\u001b[0;31mIndexError\u001b[0m                                Traceback (most recent call last)",
      "\u001b[1;32m/home/rijalboy/Documents/PythonCode/test.ipynb Cell 8\u001b[0m in \u001b[0;36m<cell line: 1>\u001b[0;34m()\u001b[0m\n\u001b[0;32m----> <a href='vscode-notebook-cell:/home/rijalboy/Documents/PythonCode/test.ipynb#W6sZmlsZQ%3D%3D?line=0'>1</a>\u001b[0m first_link \u001b[39m=\u001b[39m driver\u001b[39m.\u001b[39;49mfind_elements(by\u001b[39m=\u001b[39;49mBy\u001b[39m.\u001b[39;49mCSS_SELECTOR, value\u001b[39m=\u001b[39;49m\u001b[39m\"\u001b[39;49m\u001b[39m#search_results_table > div:nth-child(2) > div > div > div > div.d4924c9e74\u001b[39;49m\u001b[39m\"\u001b[39;49m)[\u001b[39m0\u001b[39;49m]\n\u001b[1;32m      <a href='vscode-notebook-cell:/home/rijalboy/Documents/PythonCode/test.ipynb#W6sZmlsZQ%3D%3D?line=1'>2</a>\u001b[0m first_link\u001b[39m.\u001b[39mclick()\n",
      "\u001b[0;31mIndexError\u001b[0m: list index out of range"
     ]
    }
   ],
   "source": [
    "first_link = driver.find_elements(by=By.CSS_SELECTOR, value=\"#search_results_table > div:nth-child(2) > div > div > div > div.d4924c9e74\")[0]\n",
    "first_link.click()"
   ]
  },
  {
   "cell_type": "code",
   "execution_count": 48,
   "metadata": {},
   "outputs": [
    {
     "ename": "KeyError",
     "evalue": "'href'",
     "output_type": "error",
     "traceback": [
      "\u001b[0;31m---------------------------------------------------------------------------\u001b[0m",
      "\u001b[0;31mKeyError\u001b[0m                                  Traceback (most recent call last)",
      "\u001b[1;32m/home/rijalboy/Documents/PythonCode/test.ipynb Cell 8\u001b[0m in \u001b[0;36m<cell line: 2>\u001b[0;34m()\u001b[0m\n\u001b[1;32m      <a href='vscode-notebook-cell:/home/rijalboy/Documents/PythonCode/test.ipynb#X23sZmlsZQ%3D%3D?line=0'>1</a>\u001b[0m totalScrapedInfo \u001b[39m=\u001b[39m []\n\u001b[1;32m      <a href='vscode-notebook-cell:/home/rijalboy/Documents/PythonCode/test.ipynb#X23sZmlsZQ%3D%3D?line=1'>2</a>\u001b[0m \u001b[39mfor\u001b[39;00m anchor \u001b[39min\u001b[39;00m first10:\n\u001b[0;32m----> <a href='vscode-notebook-cell:/home/rijalboy/Documents/PythonCode/test.ipynb#X23sZmlsZQ%3D%3D?line=2'>3</a>\u001b[0m     driver\u001b[39m.\u001b[39mget(\u001b[39m'\u001b[39m\u001b[39mhttps://www.imdb.com/\u001b[39m\u001b[39m{}\u001b[39;00m\u001b[39m'\u001b[39m\u001b[39m/\u001b[39m\u001b[39mformat\u001b[39m(anchor[\u001b[39m'\u001b[39;49m\u001b[39mhref\u001b[39;49m\u001b[39m'\u001b[39;49m])) \u001b[39m# Access the movie’s page\u001b[39;00m\n\u001b[1;32m      <a href='vscode-notebook-cell:/home/rijalboy/Documents/PythonCode/test.ipynb#X23sZmlsZQ%3D%3D?line=3'>4</a>\u001b[0m     infolist \u001b[39m=\u001b[39m driver\u001b[39m.\u001b[39mfind_elements(by\u001b[39m=\u001b[39mBy\u001b[39m.\u001b[39mCSS_SELECTOR, value\u001b[39m=\u001b[39m\u001b[39m'\u001b[39m\u001b[39m.ipc-inline-list\u001b[39m\u001b[39m'\u001b[39m)[\u001b[39m0\u001b[39m] \u001b[39m# Find the first element with class ‘ipc-inline-list’\u001b[39;00m\n\u001b[1;32m      <a href='vscode-notebook-cell:/home/rijalboy/Documents/PythonCode/test.ipynb#X23sZmlsZQ%3D%3D?line=4'>5</a>\u001b[0m     informations \u001b[39m=\u001b[39m infolist\u001b[39m.\u001b[39mfind_elements(by\u001b[39m=\u001b[39mBy\u001b[39m.\u001b[39mCSS_SELECTOR, value\u001b[39m=\u001b[39m\u001b[39m\"\u001b[39m\u001b[39m[role=\u001b[39m\u001b[39m'\u001b[39m\u001b[39mpresentation\u001b[39m\u001b[39m'\u001b[39m\u001b[39m]\u001b[39m\u001b[39m\"\u001b[39m) \u001b[39m# Find all elements with role=’presentation’ from the first element with class ‘ipc-inline-list’\u001b[39;00m\n",
      "File \u001b[0;32m~/.local/lib/python3.10/site-packages/bs4/element.py:1519\u001b[0m, in \u001b[0;36mTag.__getitem__\u001b[0;34m(self, key)\u001b[0m\n\u001b[1;32m   1516\u001b[0m \u001b[39mdef\u001b[39;00m \u001b[39m__getitem__\u001b[39m(\u001b[39mself\u001b[39m, key):\n\u001b[1;32m   1517\u001b[0m     \u001b[39m\"\"\"tag[key] returns the value of the 'key' attribute for the Tag,\u001b[39;00m\n\u001b[1;32m   1518\u001b[0m \u001b[39m    and throws an exception if it's not there.\"\"\"\u001b[39;00m\n\u001b[0;32m-> 1519\u001b[0m     \u001b[39mreturn\u001b[39;00m \u001b[39mself\u001b[39;49m\u001b[39m.\u001b[39;49mattrs[key]\n",
      "\u001b[0;31mKeyError\u001b[0m: 'href'"
     ]
    }
   ],
   "source": [
    "totalScrapedInfo = []\n",
    "for anchor in first10:\n",
    "    driver.get('https://www.imdb.com/{}'/format(anchor['href'])) # Access the movie’s page\n",
    "    infolist = driver.find_elements(by=By.CSS_SELECTOR, value='.ipc-inline-list')[0] # Find the first element with class ‘ipc-inline-list’\n",
    "    informations = infolist.find_elements(by=By.CSS_SELECTOR, value=\"[role='presentation']\") # Find all elements with role=’presentation’ from the first element with class ‘ipc-inline-list’\n",
    "    scrapedInfo = {\n",
    "        \"title\": anchor.text,\n",
    "        \"year\": informations[0].text,\n",
    "        \"duration\": informations[2].text,\n",
    "    } # Save all the scraped information in a dictionary\n",
    "    totalScrapedInfo.append(scrapedInfo) # Append the dictionary to the totalScrapedInformation list\n",
    "    \n",
    "print(totalScrapedInfo) # Display the list with all the information we scraped"
   ]
  },
  {
   "cell_type": "code",
   "execution_count": 3,
   "metadata": {},
   "outputs": [
    {
     "ename": "NameError",
     "evalue": "name 'totalScrapedInfo' is not defined",
     "output_type": "error",
     "traceback": [
      "\u001b[0;31m---------------------------------------------------------------------------\u001b[0m",
      "\u001b[0;31mNameError\u001b[0m                                 Traceback (most recent call last)",
      "\u001b[1;32m/home/rijalboy/Documents/PythonCode/test.ipynb Cell 11\u001b[0m in \u001b[0;36m<cell line: 13>\u001b[0;34m()\u001b[0m\n\u001b[1;32m      <a href='vscode-notebook-cell:/home/rijalboy/Documents/PythonCode/test.ipynb#X13sZmlsZQ%3D%3D?line=7'>8</a>\u001b[0m \u001b[39mimport\u001b[39;00m \u001b[39mjson\u001b[39;00m\n\u001b[1;32m     <a href='vscode-notebook-cell:/home/rijalboy/Documents/PythonCode/test.ipynb#X13sZmlsZQ%3D%3D?line=11'>12</a>\u001b[0m file \u001b[39m=\u001b[39m \u001b[39mopen\u001b[39m(\u001b[39m'\u001b[39m\u001b[39mmovies.json\u001b[39m\u001b[39m'\u001b[39m, mode\u001b[39m=\u001b[39m\u001b[39m'\u001b[39m\u001b[39mw\u001b[39m\u001b[39m'\u001b[39m, encoding\u001b[39m=\u001b[39m\u001b[39m'\u001b[39m\u001b[39mutf-8\u001b[39m\u001b[39m'\u001b[39m)\n\u001b[0;32m---> <a href='vscode-notebook-cell:/home/rijalboy/Documents/PythonCode/test.ipynb#X13sZmlsZQ%3D%3D?line=12'>13</a>\u001b[0m file\u001b[39m.\u001b[39mwrite(json\u001b[39m.\u001b[39mdumps(totalScrapedInfo))\n\u001b[1;32m     <a href='vscode-notebook-cell:/home/rijalboy/Documents/PythonCode/test.ipynb#X13sZmlsZQ%3D%3D?line=14'>15</a>\u001b[0m writer \u001b[39m=\u001b[39m csv\u001b[39m.\u001b[39mwriter(\u001b[39mopen\u001b[39m(\u001b[39m\"\u001b[39m\u001b[39mmovies.csv\u001b[39m\u001b[39m\"\u001b[39m, \u001b[39m'\u001b[39m\u001b[39mw\u001b[39m\u001b[39m'\u001b[39m))\n\u001b[1;32m     <a href='vscode-notebook-cell:/home/rijalboy/Documents/PythonCode/test.ipynb#X13sZmlsZQ%3D%3D?line=15'>16</a>\u001b[0m \u001b[39mfor\u001b[39;00m movie \u001b[39min\u001b[39;00m totalScrapedInfo:\n",
      "\u001b[0;31mNameError\u001b[0m: name 'totalScrapedInfo' is not defined"
     ]
    }
   ],
   "source": [
    "import requests\n",
    "from bs4 import BeautifulSoup\n",
    "from selenium import webdriver\n",
    "from selenium.webdriver.chrome.service import Service as ChromeService\n",
    "from webdriver_manager.chrome import ChromeDriverManager\n",
    "from selenium.webdriver.common.by import By\n",
    "import csv\n",
    "import json\n",
    " \n",
    "\n",
    "        \n",
    "file = open('movies.json', mode='w', encoding='utf-8')\n",
    "file.write(json.dumps(totalScrapedInfo))\n",
    " \n",
    "writer = csv.writer(open(\"movies.csv\", 'w'))\n",
    "for movie in totalScrapedInfo:\n",
    "    writer.writerow(movie.values())\n",
    " \n",
    "option = webdriver.ChromeOptions()\n",
    "# I use the following options as my machine is a window subsystem linux. \n",
    "# I recommend to use the headless option at least, out of the 3\n",
    "option.add_argument('--headless')\n",
    "option.add_argument('--no-sandbox')\n",
    "option.add_argument('--disable-dev-sh-usage')\n",
    "# Replace YOUR-PATH-TO-CHROMEDRIVER with your chromedriver location\n",
    "driver = webdriver.Chrome(service=ChromeService(ChromeDriverManager().install()), options=option)\n",
    " \n",
    "page = driver.get('https://www.imdb.com/chart/top/') # Getting page HTML through request\n",
    "soup = BeautifulSoup(driver.page_source, 'html.parser') # Parsing content using beautifulsoup\n",
    " \n",
    "totalScrapedInfo = [] # In this list we will save all the information we scrape\n",
    "links = soup.select(\"#main > div > span > div > div > div.lister > table\") # Selecting all of the anchors with titles\n",
    "first10 = links[:10] # Keep only the first 10 anchors\n",
    "for anchor in first10:\n",
    "    driver.get('https://www.imdb.com/chart/top/') # Access the movie’s page\n",
    "    infolist = driver.find_elements(by=By.CSS_SELECTOR, value='.ipc-inline-list')[0] # Find the first element with class ‘ipc-inline-list’\n",
    "    informations = infolist.find_elements(by=By.CSS_SELECTOR, value=\"[role='presentation']\") # Find all elements with role=’presentation’ from the first element with class ‘ipc-inline-list’\n",
    "    scrapedInfo = {\n",
    "        \"title\": anchor.text,\n",
    "        \"year\": informations[0].text,\n",
    "        \"duration\": informations[2].text,\n",
    "    } # Save all the scraped information in a dictionary\n",
    "\n",
    "    totalScrapedInfo.append(scrapedInfo) # Append the dictionary to the totalScrapedInformation list\n",
    "    \n",
    "file = open('movies.json', mode='w', encoding='utf-8')\n",
    "file.write(json.dumps(totalScrapedInfo))\n",
    " \n",
    "writer = csv.writer(open(\"movies.csv\", 'w'))\n",
    "for movie in totalScrapedInfo:\n",
    "    writer.writerow(movie.values()) # Display the list with all the information we scraped"
   ]
  },
  {
   "cell_type": "code",
   "execution_count": 33,
   "metadata": {},
   "outputs": [
    {
     "name": "stdout",
     "output_type": "stream",
     "text": [
      "https://www.booking.com/searchresults.en-gb.html?label=gen173nr-1BCAEoggI46AdIM1gEaFCIAQGYAQm4ARfIAQzYAQHoAQGIAgGoAgO4AqnamocGwAIB0gIkNGEyODNlYTYtYTM2Yi00M2Y3LWE2YjItM2RmYWFlMTM5ZWI22AIF4AIB&sid=44053b754f64b58cfdde1ddc395974a0&sb=1&sb_lp=1&src=index&src_elem=sb&error_url=https%3A%2F%2Fwww.booking.com%2Findex.en-gb.html%3Flabel%3Dgen173nr-1BCAEoggI46AdIM1gEaFCIAQGYAQm4ARfIAQzYAQHoAQGIAgGoAgO4AqnamocGwAIB0gIkNGEyODNlYTYtYTM2Yi00M2Y3LWE2YjItM2RmYWFlMTM5ZWI22AIF4AIB%3Bsid%3D44053b754f64b58cfdde1ddc395974a0%3Bsb_price_type%3Dtotal%26%3B&ss=nepal&is_ski_area=0&checkin_year=2022&checkin_month=12&checkin_monthday=13&checkout_year=2022&checkout_month=12&checkout_monthday=17&group_adults=2&0&no_rooms=1&b_h4u_keep_filters=&from_sf=1&dest_id=&dest_type=&search_pageview_id=1be740bf37ad0063&search_selected=false\n"
     ]
    }
   ],
   "source": [
    "destination = \"nepal\"\n",
    "check_in_year = 2022\n",
    "check_in_month = 12\n",
    "check_in_day = 13\n",
    "check_out_year = 2022\n",
    "check_out_month = 12\n",
    "check_out_day = 17\n",
    "adults = 2\n",
    "total_children = 0\n",
    "num_rooms = 1\n",
    "url = \"https://www.booking.com/searchresults.en-gb.html?label=gen173nr-1BCAEoggI46AdIM1gEaFCIAQGYAQm4ARfIAQzYAQHoAQGIAgGoAgO4AqnamocGwAIB0gIkNGEyODNlYTYtYTM2Yi00M2Y3LWE2YjItM2RmYWFlMTM5ZWI22AIF4AIB&sid=44053b754f64b58cfdde1ddc395974a0&sb=1&sb_lp=1&src=index&src_elem=sb&error_url=https%3A%2F%2Fwww.booking.com%2Findex.en-gb.html%3Flabel%3Dgen173nr-1BCAEoggI46AdIM1gEaFCIAQGYAQm4ARfIAQzYAQHoAQGIAgGoAgO4AqnamocGwAIB0gIkNGEyODNlYTYtYTM2Yi00M2Y3LWE2YjItM2RmYWFlMTM5ZWI22AIF4AIB%3Bsid%3D44053b754f64b58cfdde1ddc395974a0%3Bsb_price_type%3Dtotal%26%3B&ss={}&is_ski_area=0&checkin_year={}&checkin_month={}&checkin_monthday={}&checkout_year={}&checkout_month={}&checkout_monthday={}&group_adults={}&{}&no_rooms={}&b_h4u_keep_filters=&from_sf=1&dest_id=&dest_type=&search_pageview_id=1be740bf37ad0063&search_selected=false\".format(\n",
    "                                    destination,check_in_year,check_in_month,check_in_day,check_out_year,check_out_month,check_out_day,adults,total_children,num_rooms)\n",
    "print(url)"
   ]
  },
  {
   "cell_type": "code",
   "execution_count": 44,
   "metadata": {},
   "outputs": [
    {
     "name": "stdout",
     "output_type": "stream",
     "text": [
      "None\n"
     ]
    }
   ],
   "source": [
    "import time\n",
    "driver.get(url)\n",
    "time.sleep(3)\n",
    "soup = BeautifulSoup(driver.page_source, \"html.parser\")\n",
    "time.sleep(3)\n",
    "# links = soup.find(\"span\", {\"data-testid\":\"price-and-discounted-price\"})\n",
    "links = soup.find(\"span\", class_=\"fcab3ed991\")\n",
    "\n",
    "time.sleep(3)\n",
    "\n",
    "# links = soup.find(\"div\", {\"class\": \"fd1924b122\"})\n",
    "print(links)\n"
   ]
  },
  {
   "cell_type": "code",
   "execution_count": 50,
   "metadata": {},
   "outputs": [
    {
     "name": "stdout",
     "output_type": "stream",
     "text": [
      "https://nl.hotels.com/search.do?q-destination=nepal nepal&q-check-in=2022-12-12&q-check-out=2022-12-15&q-rooms12\n"
     ]
    }
   ],
   "source": [
    "name = \"nepal\"\n",
    "address = \"nepal\"\n",
    "check_in = \"2022-12-12\"\n",
    "check_out= \"2022-12-15\"\n",
    "rooms=1\n",
    "adults_and_children = 2\n",
    "url2 ='https://nl.hotels.com/search.do?q-destination={} {}&q-check-in={}&q-check-out={}&q-rooms{}{}'.format(name, address, check_in,check_out, rooms, adults_and_children)\n",
    "print(url2)"
   ]
  },
  {
   "cell_type": "code",
   "execution_count": 54,
   "metadata": {},
   "outputs": [
    {
     "name": "stdout",
     "output_type": "stream",
     "text": [
      "<html><head>\n",
      "<title>Access Denied</title>\n",
      "</head><body>\n",
      "<h1>Access Denied</h1>\n",
      " \n",
      "You don't have permission to access \"http://nl.hotels.com/search.do?\" on this server.<p>\n",
      "Reference #18.437c4117.1670741597.1bff55fa\n",
      "\n",
      "\n",
      "</p></body></html>\n"
     ]
    }
   ],
   "source": [
    "driver.get(url2)\n",
    "print(driver.page_source)\n",
    "soup = BeautifulSoup(driver.page_source, \"html.parser\")\n",
    "# price = soup.find(\"div\", class_=\"_3XSqn6\")\n",
    "# print(price)"
   ]
  },
  {
   "cell_type": "code",
   "execution_count": 68,
   "metadata": {},
   "outputs": [
    {
     "name": "stdout",
     "output_type": "stream",
     "text": [
      "NPR 12,511\n"
     ]
    }
   ],
   "source": [
    "from selenium import webdriver\n",
    "from selenium.webdriver.support.ui import WebDriverWait\n",
    "from selenium.webdriver.common.by import By\n",
    "from selenium.webdriver.support import expected_conditions as EC\n",
    "\n",
    "options = webdriver.ChromeOptions() \n",
    "options.add_argument(\"start-maximized\")\n",
    "options.add_experimental_option(\"excludeSwitches\", [\"enable-automation\"])\n",
    "options.add_experimental_option('useAutomationExtension', False)\n",
    "driver = webdriver.Chrome(options=options, service=ChromeService(ChromeDriverManager().install()))\n",
    "driver.get(url)\n",
    "# WebDriverWait(driver, 20).until(EC.visibility_of_element_located((By.CSS_SELECTOR, \"h1.h1\")))\n",
    "soup = BeautifulSoup(driver.page_source, \"html.parser\")\n",
    "# price = soup.find(\"span\", class_=\"_2R4dw5\")\n",
    "price = soup.find(\"span\", {\"data-testid\":\"price-and-discounted-price\"})\n",
    "print(price.text)\n",
    "# driver.quit()"
   ]
  },
  {
   "cell_type": "code",
   "execution_count": 78,
   "metadata": {},
   "outputs": [
    {
     "name": "stdout",
     "output_type": "stream",
     "text": [
      "2022-12-11\n"
     ]
    }
   ],
   "source": [
    "import datetime\n",
    "check_in = datetime.datetime.now()\n",
    "year_in, month_in, day_in = str(check_in).split(\"-\")\n",
    "day_in = ' '.join(day_in.split()[:1])\n",
    "print(\"{}-{}-{}\".format(year_in, month_in,day_in))"
   ]
  },
  {
   "cell_type": "code",
   "execution_count": 77,
   "metadata": {},
   "outputs": [
    {
     "name": "stdout",
     "output_type": "stream",
     "text": [
      "some\n"
     ]
    }
   ],
   "source": [
    "s = 'some long string with random number of words'\n",
    "remove_first_2 = ' '.join(s.split()[:1])\n",
    "print(remove_first_2)"
   ]
  },
  {
   "cell_type": "code",
   "execution_count": 28,
   "metadata": {},
   "outputs": [
    {
     "name": "stdout",
     "output_type": "stream",
     "text": [
      "https://www.expedia.co.uk/Hotel-Search?adults=2&children=0&d1=1998&d2=1995&destination=Nepal&directFlights=false&endDate=1995&guestRating=&hotelName=Marriot&localDateFormat=d%2FM%2Fyyyy&partialStay=false&regionId=&semdtl=&sort=RECOMMENDED&startDate=1998&theme=&useRewards=false&userIntent=\n",
      "None\n"
     ]
    }
   ],
   "source": [
    "from selenium import webdriver\n",
    "from selenium.webdriver.support.ui import WebDriverWait\n",
    "from selenium.webdriver.common.by import By\n",
    "from selenium.webdriver.support import expected_conditions as EC\n",
    "\n",
    "options = webdriver.ChromeOptions() \n",
    "options.add_argument(\"start-maximized\")\n",
    "options.add_experimental_option(\"excludeSwitches\", [\"enable-automation\"])\n",
    "options.add_experimental_option('useAutomationExtension', False)\n",
    "driver = webdriver.Chrome(options=options, service=ChromeService(ChromeDriverManager().install()))\n",
    "adult_string = 2\n",
    "children_string = 0\n",
    "check_in=2022-12-12\n",
    "check_out=2022-12-15\n",
    "destination=\"Nepal\"\n",
    "hotel_name=\"Marriot\"\n",
    "url = \"https://www.expedia.co.uk/Hotel-Search?adults={}&children={}&d1={}&d2={}&destination={}&directFlights=false&endDate={}&guestRating=&hotelName={}&localDateFormat=d%2FM%2Fyyyy&partialStay=false&regionId=&semdtl=&sort=RECOMMENDED&startDate={}&theme=&useRewards=false&userIntent=\".format(\n",
    "            adult_string, children_string, check_in, check_out, destination, check_out, hotel_name, check_in\n",
    "        )\n",
    "print(url)\n",
    "driver.get(url)\n",
    "soup = BeautifulSoup(driver.page_source, \"html.parser\")\n",
    "content = soup.find(\"div\", {\"data-stid\": \"lodging-card-compact-horizontal\"})\n",
    "# content = content.text\n",
    "print(content)"
   ]
  },
  {
   "cell_type": "code",
   "execution_count": 8,
   "metadata": {},
   "outputs": [
    {
     "name": "stdout",
     "output_type": "stream",
     "text": [
      "<div class=\"uitk-spacing uitk-spacing-padding-block-half\"><div class=\"uitk-text uitk-type-300 uitk-text-default-theme is-visually-hidden\">The price is £732</div><span aria-hidden=\"true\"><div class=\"uitk-text uitk-type-600 uitk-type-bold uitk-text-emphasis-theme\">£732</div></span></div>\n",
      "https://uk.hotels.com/Hotel-Search?adults=2&d1=2022-12-17&d2=2022-12-20&destination=Marriot Bali&endDate=2022-12-20&selected=&semdtl=&sort=RECOMMENDED&startDate=2022-12-17&theme=&useRewards=false&userIntent=\n"
     ]
    }
   ],
   "source": [
    "import datetime\n",
    "from selenium import webdriver\n",
    "from selenium.webdriver.support.ui import WebDriverWait\n",
    "from selenium.webdriver.common.by import By\n",
    "from selenium.webdriver.support import expected_conditions as EC\n",
    "\n",
    "options = webdriver.ChromeOptions() \n",
    "options.add_argument(\"start-maximized\")\n",
    "options.add_experimental_option(\"excludeSwitches\", [\"enable-automation\"])\n",
    "options.add_experimental_option('useAutomationExtension', False)\n",
    "driver = webdriver.Chrome(options=options, service=ChromeService(ChromeDriverManager().install()))\n",
    "name = \"Bali\"\n",
    "address = \"Marriot\"\n",
    "rooms=1\n",
    "adults_and_children = 2\n",
    "check_in = datetime.datetime.now() + datetime.timedelta(days=2)\n",
    "year_in,month_in,day_in = str(check_in).split(\"-\")\n",
    "day_in = ' '.join(day_in.split()[:1])\n",
    "check_in = \"{}-{}-{}\".format(year_in,month_in,day_in)\n",
    "check_out = datetime.datetime.today() + datetime.timedelta(days=5)\n",
    "year_out, month_out, day_out = str(check_out).split(\"-\")\n",
    "day_out = ' '.join(day_out.split()[:1])\n",
    "check_out = \"{}-{}-{}\".format(year_out, month_out, day_out)\n",
    "adults =2\n",
    "abc = \"https://uk.hotels.com/Hotel-Search?adults={}&d1={}&d2={}&destination={} {}&endDate={}&selected=&semdtl=&sort=RECOMMENDED&startDate={}&theme=&useRewards=false&userIntent=\".format(\n",
    "    adults,check_in,check_out,address,name,check_out,check_in\n",
    ")\n",
    "url='https://uk.hotels.com/Hotel-Search?q-destination={} {}&q-check-in={}&q-check-out={}&q-rooms{}{}'.format(name, address, check_in,check_out, rooms, adults_and_children)\n",
    "driver.get(abc)\n",
    "# print(driver.page_source)\n",
    "soup = BeautifulSoup(driver.page_source, \"html.parser\")\n",
    "content = soup.find(\"div\", {\"class\": \"uitk-spacing uitk-spacing-padding-block-half\"})\n",
    "if content is None:\n",
    "    content = soup.find(\"div\", {\"class\": \"uitk-card-content-section uitk-card-content-section-padded uitk-spacing uitk-spacing-margin-blockend-three uitk-spacing-padding-inline-six uitk-spacing-padding-block-six uitk-card uitk-card-roundcorner-all uitk-card-has-primary-theme\"})\n",
    "print(content)\n",
    "print(abc)"
   ]
  },
  {
   "cell_type": "code",
   "execution_count": 25,
   "metadata": {},
   "outputs": [
    {
     "name": "stdout",
     "output_type": "stream",
     "text": [
      "https://uk.hotels.com/Hotel-Search?adults=2&d1=2022-12-13&d2=2022-12-16&destination=Nepal&endDate=2022-12-16&selected=&semdtl=&sort=RECOMMENDED&startDate=2022-12-13&theme=&useRewards=false&userIntent=\n"
     ]
    }
   ],
   "source": [
    "adults =2\n",
    "abc = \"https://uk.hotels.com/Hotel-Search?adults={}&d1={}&d2={}&destination={}&endDate={}&selected=&semdtl=&sort=RECOMMENDED&startDate={}&theme=&useRewards=false&userIntent=\".format(\n",
    "    adults,check_in,check_out,destination,check_out,check_in\n",
    ")\n",
    "print(abc)"
   ]
  },
  {
   "cell_type": "code",
   "execution_count": 1,
   "metadata": {},
   "outputs": [
    {
     "name": "stdout",
     "output_type": "stream",
     "text": [
      "https://www.booking.com/searchresults.en-gb.html?label=gen173nr-1FCAEoggI46AdIM1gEaFCIAQGYAQm4ARfIAQzYAQHoAQH4AQuIAgGoAgO4AqnamocGwAIB0gIkNGEyODNlYTYtYTM2Yi00M2Y3LWE2YjItM2RmYWFlMTM5ZWI22AIG4AIB&lang=en-gb&sid=0028b15b49df734dca79ba302323cc98&sb=1&sb_lp=1&src=index&src_elem=sb&error_url=https%3A%2F%2Fwww.booking.com%2Findex.en-gb.html%3Flabel%3Dgen173nr-1FCAEoggI46AdIM1gEaFCIAQGYAQm4ARfIAQzYAQHoAQH4AQuIAgGoAgO4AqnamocGwAIB0gIkNGEyODNlYTYtYTM2Yi00M2Y3LWE2YjItM2RmYWFlMTM5ZWI22AIG4AIB%26sid%3D0028b15b49df734dca79ba302323cc98%26sb_price_type%3Dtotal%3Bsrpvid%3D322e3f05a25301a5%26%26&ss=Residence+Inn+by+Marriott+London+Bridge%2C+Long+Lane%2C+London%2C+UK&is_ski_area=&ssne=London&ssne_untouched=London&checkin_year=2022&checkin_month=12&checkin_monthday=13&checkout_year=2022&checkout_month=12&checkout_monthday=15&group_adults=2&group_children=0&no_rooms=1&b_h4u_keep_filters=&from_sf=1&ac_position=0&ac_click_type=g&dest_type=landmark&place_id=ChIJOx8km1wDdkgRlHJO0VbV8WI&place_id_lat=&place_id_lon=&search_pageview_id=&search_selected=true&ss_raw=Marriott+Hotel+london+bridge\n"
     ]
    }
   ],
   "source": [
    "# Import the required library\n",
    "from geopy.geocoders import Nominatim\n",
    "\n",
    "# Initialize Nominatim API\n",
    "geolocator = Nominatim(user_agent=\"MyApp\")\n",
    "\n",
    "\n",
    "adults = 2\n",
    "children_age = 5\n",
    "children_number = 1\n",
    "children_details = \"{}_{}\".format(children_number, children_age)\n",
    "check_in = \"2022-12-29\" #d1\n",
    "check_out = \"2022-12-31\" #d2\n",
    "destination = \"Residence Inn Marrioot Hotel\"\n",
    "end_date = check_out\n",
    "location = geolocator.geocode(\"{}\".format(destination))\n",
    "long = location.longitude\n",
    "lat  = location.latitude\n",
    "hotels_destination = \"Residence+Inn+by+Marriott+CLondon+CBridge\"\n",
    "# url = \"https://uk.hotels.com/Hotel-Search?adults={}&children={}&d1={}&d2={}&destination={}&directFlights=false&endDate={}&hotels-destination={}&l10n=%5Bobject%20Object%5D&latLong=&localDateFormat=d%2FM%2Fyyyy&partialStay=false&regionId=&selected=&semdtl=&sort=RECOMMENDED&startDate={}&theme=&useRewards=false&userIntent=\".format(\n",
    "#         adults, children_details, check_in, check_out, destination,check_out, hotels_destination, check_in\n",
    "# )\n",
    "# url3 = \"https://uk.hotels.com/Hotel-Search?adults={}&children={}&d1={}&d2={}&destination={}&endDate={}&hotels-destination{}&latLong={}%2C{}&regionId=&selected=&semdtl=&sort=RECOMMENDED&startDate={}&theme=&useRewards=false&userIntent=\".format(\n",
    "#     adults, children_details, check_in, check_out, destination, check_out, hotels_destination, lat, long,check_in\n",
    "# )\n",
    "# ulr4 =\"https://uk.hotels.com/Hotel-Search?adults=2&d1=2022-12-29&d2=2022-12-31&destination=London%2C%20England%2C%20United%20Kingdom&directFlights=false&endDate=2022-12-31&hotels-destination=Residence%20Inn%20by%20Marriott%20London%20Bridge&l10n=%5Bobject%20Object%5D&latLong=%2C&localDateFormat=d%2FM%2Fyyyy&partialStay=false&regionId=&selected=&semdtl=&sort=RECOMMENDED&startDate=2022-12-29&theme=&useRewards=false&userIntent=\"\n",
    "# print(ulr4)\n",
    "# print(url3)\n",
    "\n",
    "url = \"https://www.booking.com/searchresults.en-gb.html?label=gen173nr-1FCAEoggI46AdIM1gEaFCIAQGYAQm4ARfIAQzYAQHoAQH4AQuIAgGoAgO4AqnamocGwAIB0gIkNGEyODNlYTYtYTM2Yi00M2Y3LWE2YjItM2RmYWFlMTM5ZWI22AIG4AIB&lang=en-gb&sid=0028b15b49df734dca79ba302323cc98&sb=1&sb_lp=1&src=index&src_elem=sb&error_url=https%3A%2F%2Fwww.booking.com%2Findex.en-gb.html%3Flabel%3Dgen173nr-1FCAEoggI46AdIM1gEaFCIAQGYAQm4ARfIAQzYAQHoAQH4AQuIAgGoAgO4AqnamocGwAIB0gIkNGEyODNlYTYtYTM2Yi00M2Y3LWE2YjItM2RmYWFlMTM5ZWI22AIG4AIB%26sid%3D0028b15b49df734dca79ba302323cc98%26sb_price_type%3Dtotal%3Bsrpvid%3D322e3f05a25301a5%26%26&ss=Residence+Inn+by+Marriott+London+Bridge%2C+Long+Lane%2C+London%2C+UK&is_ski_area=&ssne=London&ssne_untouched=London&checkin_year=2022&checkin_month=12&checkin_monthday=13&checkout_year=2022&checkout_month=12&checkout_monthday=15&group_adults=2&group_children=0&no_rooms=1&b_h4u_keep_filters=&from_sf=1&ac_position=0&ac_click_type=g&dest_type=landmark&place_id=ChIJOx8km1wDdkgRlHJO0VbV8WI&place_id_lat=&place_id_lon=&search_pageview_id=&search_selected=true&ss_raw=Marriott+Hotel+london+bridge\"\n",
    "\n",
    "print(url)\n"
   ]
  },
  {
   "cell_type": "code",
   "execution_count": 1,
   "metadata": {},
   "outputs": [
    {
     "name": "stdout",
     "output_type": "stream",
     "text": [
      "xyz\n"
     ]
    }
   ],
   "source": [
    "print(\"xyz\")"
   ]
  },
  {
   "cell_type": "code",
   "execution_count": 11,
   "metadata": {},
   "outputs": [
    {
     "name": "stdout",
     "output_type": "stream",
     "text": [
      "115.1274881\n"
     ]
    }
   ],
   "source": [
    "# Import the required library\n",
    "from geopy.geocoders import Nominatim\n",
    "\n",
    "# Initialize Nominatim API\n",
    "geolocator = Nominatim(user_agent=\"MyApp\")\n",
    "\n",
    "location = geolocator.geocode(\"Pererenan\")\n",
    "long = location.longitude\n",
    "lat  = location.latitude\n",
    "\n"
   ]
  },
  {
   "cell_type": "code",
   "execution_count": 4,
   "metadata": {},
   "outputs": [
    {
     "name": "stdout",
     "output_type": "stream",
     "text": [
      "16 15:02:55.528643\n",
      "16\n"
     ]
    }
   ],
   "source": [
    "import datetime\n",
    "check_in = datetime.datetime.now() + datetime.timedelta(days=2)\n",
    "year_in,month_in,day_in = str(check_in).split(\"-\")\n",
    "print(day_in)\n",
    "day_in = ' '.join(day_in.split()[:1])\n",
    "print(day_in)"
   ]
  },
  {
   "cell_type": "code",
   "execution_count": 23,
   "metadata": {},
   "outputs": [
    {
     "name": "stderr",
     "output_type": "stream",
     "text": [
      "/tmp/ipykernel_5307/3632375023.py:32: RuntimeWarning: coroutine 'HTML.arender' was never awaited\n",
      "  a = r.html.arender(script=script, reload=False)\n",
      "RuntimeWarning: Enable tracemalloc to get the object allocation traceback\n"
     ]
    },
    {
     "ename": "AttributeError",
     "evalue": "'coroutine' object has no attribute 'text'",
     "output_type": "error",
     "traceback": [
      "\u001b[0;31m---------------------------------------------------------------------------\u001b[0m",
      "\u001b[0;31mAttributeError\u001b[0m                            Traceback (most recent call last)",
      "\u001b[1;32m/home/rijalboy/Documents/PythonCode/test.ipynb Cell 26\u001b[0m in \u001b[0;36m<cell line: 33>\u001b[0;34m()\u001b[0m\n\u001b[1;32m     <a href='vscode-notebook-cell:/home/rijalboy/Documents/PythonCode/test.ipynb#X34sZmlsZQ%3D%3D?line=23'>24</a>\u001b[0m script \u001b[39m=\u001b[39m \u001b[39m\"\"\"\u001b[39m\n\u001b[1;32m     <a href='vscode-notebook-cell:/home/rijalboy/Documents/PythonCode/test.ipynb#X34sZmlsZQ%3D%3D?line=24'>25</a>\u001b[0m \u001b[39m       () => \u001b[39m\u001b[39m{\u001b[39m\n\u001b[1;32m     <a href='vscode-notebook-cell:/home/rijalboy/Documents/PythonCode/test.ipynb#X34sZmlsZQ%3D%3D?line=25'>26</a>\u001b[0m \u001b[39m              $(document).ready(function() \u001b[39m\u001b[39m{\u001b[39m\u001b[39m  \u001b[39m\n\u001b[0;32m   (...)\u001b[0m\n\u001b[1;32m     <a href='vscode-notebook-cell:/home/rijalboy/Documents/PythonCode/test.ipynb#X34sZmlsZQ%3D%3D?line=29'>30</a>\u001b[0m \u001b[39m        }\u001b[39m\n\u001b[1;32m     <a href='vscode-notebook-cell:/home/rijalboy/Documents/PythonCode/test.ipynb#X34sZmlsZQ%3D%3D?line=30'>31</a>\u001b[0m \u001b[39m         \u001b[39m\u001b[39m\"\"\"\u001b[39m\n\u001b[1;32m     <a href='vscode-notebook-cell:/home/rijalboy/Documents/PythonCode/test.ipynb#X34sZmlsZQ%3D%3D?line=31'>32</a>\u001b[0m a \u001b[39m=\u001b[39m r\u001b[39m.\u001b[39mhtml\u001b[39m.\u001b[39marender(script\u001b[39m=\u001b[39mscript, reload\u001b[39m=\u001b[39m\u001b[39mFalse\u001b[39;00m)\n\u001b[0;32m---> <a href='vscode-notebook-cell:/home/rijalboy/Documents/PythonCode/test.ipynb#X34sZmlsZQ%3D%3D?line=32'>33</a>\u001b[0m \u001b[39mprint\u001b[39m(a\u001b[39m.\u001b[39;49mtext)\n",
      "\u001b[0;31mAttributeError\u001b[0m: 'coroutine' object has no attribute 'text'"
     ]
    }
   ],
   "source": [
    "import nest_asyncio\n",
    "\n",
    "nest_asyncio.apply()\n",
    "\n",
    "# driver = webdriver.Chrome(service=ChromeService(ChromeDriverManager().install()))\n",
    "  \n",
    "# get https://www.geeksforgeeks.org/\n",
    "url = \"https://www.booking.com/searchresults.html?label=gen173nr-1FCAEoggI46AdIM1gEaKsBiAEBmAExuAEZyAEM2AEB6AEB-AECiAIBqAIDuAKJ6OacBsACAdICJDk0OWM3YzUxLThkYjAtNGRmNC1hNGVjLTAzZGYyMTQzNGFhMNgCBeACAQ&sid=f50edfc50f6dbc84e065f04989e2b372&sb=1&sb_lp=1&src=index&src_elem=sb&error_url=https%3A%2F%2Fwww.booking.com%2Findex.html%3Flabel%3Dgen173nr-1FCAEoggI46AdIM1gEaKsBiAEBmAExuAEZyAEM2AEB6AEB-AECiAIBqAIDuAKJ6OacBsACAdICJDk0OWM3YzUxLThkYjAtNGRmNC1hNGVjLTAzZGYyMTQzNGFhMNgCBeACAQ%26sid%3Df50edfc50f6dbc84e065f04989e2b372%26sb_price_type%3Dtotal%3Bsrpvid%3D4b35510babba0249%26%26&ss=Hotel+Yambu&is_ski_area=0&checkin_year=&checkin_month=12&checkout_year=&checkout_month=12&group_adults=2&group_children=0&no_rooms=1&b_h4u_keep_filters=&from_sf=1&ss_raw=Hotel+Yambu&ac_position=0&ac_langcode=en&ac_click_type=b&ac_meta=GhAzMTI4NTExYzhmM2YwMDJmIAAoATICZW46B3NvYWx0ZWVAAEoAUAA%3D&dest_id=&dest_type=hotel&place_id_lat=&place_id_lon=&search_pageview_id=3128511c8f3f002f&search_selected=true#map_closed\"\n",
    "  \n",
    "# Maximize the window and let code stall \n",
    "# for 10s to properly maximise the window.\n",
    "# time.sleep(15)\n",
    "# driver.maximize_window()\n",
    "\n",
    "  \n",
    "# # Obtain button by link text and click.\n",
    "# button = driver.find_element(by= By.CSS_SELECTOR, value=\"button = #left_col_wrapper > div:nth-child(1) > div > div > form > div > div:nth-child(6) > div > button > span\")\n",
    "# button.click()\n",
    "\n",
    "from requests_html import HTMLSession\n",
    "session = HTMLSession()\n",
    "r = session.get(url, stream=True)\n",
    "# r.html.arender()\n",
    "script = \"\"\"\n",
    "       () => {\n",
    "              $(document).ready(function() {  \n",
    "                  \n",
    "                   $(\"#left_col_wrapper > div:nth-child(1) > div > div > form > div > div:nth-child(6) > div > button > span\").click();\n",
    "              })\n",
    "        }\n",
    "         \"\"\"\n",
    "a = r.html.arender(script=script, reload=False)\n",
    "print(a.text)"
   ]
  },
  {
   "cell_type": "code",
   "execution_count": 2,
   "metadata": {},
   "outputs": [
    {
     "name": "stdout",
     "output_type": "stream",
     "text": [
      "Defaulting to user installation because normal site-packages is not writeable\n",
      "Collecting MechanicalSoup\n",
      "  Downloading MechanicalSoup-1.2.0-py3-none-any.whl (19 kB)\n",
      "Requirement already satisfied: requests>=2.22.0 in /usr/lib/python3/dist-packages (from MechanicalSoup) (2.25.1)\n",
      "Collecting lxml\n",
      "  Downloading lxml-4.9.2-cp310-cp310-manylinux_2_17_x86_64.manylinux2014_x86_64.manylinux_2_24_x86_64.whl (7.1 MB)\n",
      "\u001b[2K     \u001b[90m━━━━━━━━━━━━━━━━━━━━━━━━━━━━━━━━━━━━━━━━\u001b[0m \u001b[32m7.1/7.1 MB\u001b[0m \u001b[31m961.2 kB/s\u001b[0m eta \u001b[36m0:00:00\u001b[0m00:01\u001b[0m00:01\u001b[0m\n",
      "\u001b[?25hRequirement already satisfied: beautifulsoup4>=4.7 in /home/root1/.local/lib/python3.10/site-packages (from MechanicalSoup) (4.11.1)\n",
      "Requirement already satisfied: soupsieve>1.2 in /home/root1/.local/lib/python3.10/site-packages (from beautifulsoup4>=4.7->MechanicalSoup) (2.3.2.post1)\n",
      "Installing collected packages: lxml, MechanicalSoup\n",
      "Successfully installed MechanicalSoup-1.2.0 lxml-4.9.2\n"
     ]
    }
   ],
   "source": [
    "!pip install MechanicalSoup"
   ]
  },
  {
   "cell_type": "code",
   "execution_count": 35,
   "metadata": {},
   "outputs": [
    {
     "name": "stdout",
     "output_type": "stream",
     "text": [
      "https://www.booking.com/searchresults.en-us.html?ss=Hotel+Yambhu\n"
     ]
    }
   ],
   "source": [
    "import mechanicalsoup\n",
    "\n",
    "browser = mechanicalsoup.StatefulBrowser(user_agent = 'Mozilla/5.0 (Windows NT 6.1; WOW64) AppleWebKit/537.36 (KHTML, like Gecko) Chrome/41.0.2272.101 Safari/537.36')\n",
    "browser.open(\"https://www.booking.com/searchresults.html?label=gen173nr-1FCAEoggI46AdIM1gEaKsBiAEBmAExuAEZyAEM2AEB6AEB-AECiAIBqAIDuAKJ6OacBsACAdICJDk0OWM3YzUxLThkYjAtNGRmNC1hNGVjLTAzZGYyMTQzNGFhMNgCBeACAQ&sid=f50edfc50f6dbc84e065f04989e2b372&sb=1&sb_lp=1&src=index&src_elem=sb&error_url=https%3A%2F%2Fwww.booking.com%2Findex.html%3Flabel%3Dgen173nr-1FCAEoggI46AdIM1gEaKsBiAEBmAExuAEZyAEM2AEB6AEB-AECiAIBqAIDuAKJ6OacBsACAdICJDk0OWM3YzUxLThkYjAtNGRmNC1hNGVjLTAzZGYyMTQzNGFhMNgCBeACAQ%26sid%3Df50edfc50f6dbc84e065f04989e2b372%26sb_price_type%3Dtotal%3Bsrpvid%3D4b35510babba0249%26%26&ss=Hotel+Yambu&is_ski_area=0&checkin_year=&checkin_month=12&checkout_year=&checkout_month=12&group_adults=2&group_children=0&no_rooms=1&b_h4u_keep_filters=&from_sf=1&ss_raw=Hotel+Yambu&ac_position=0&ac_langcode=en&ac_click_type=b&ac_meta=GhAzMTI4NTExYzhmM2YwMDJmIAAoATICZW46B3NvYWx0ZWVAAEoAUAA%3D&dest_id=&dest_type=hotel&place_id_lat=&place_id_lon=&search_pageview_id=3128511c8f3f002f&search_selected=true#map_closed\")\n",
    "browser.select_form('form[class=\"a90438ad2b\"]')\n",
    "\n",
    "\n",
    "browser[\"ss\"] = \"Hotel Yambhu\"\n",
    "browser.submit_selected()\n",
    "browser.page\n",
    "# for link in browser.page.select('div[data-testid=\"property-card\"]'):\n",
    "#     print(\"in for loop\")\n",
    "#     print(link.text)"
   ]
  },
  {
   "cell_type": "code",
   "execution_count": 9,
   "metadata": {},
   "outputs": [
    {
     "name": "stdout",
     "output_type": "stream",
     "text": [
      "MechanicalSoup · PyPI -> https://pypi.org/project/MechanicalSoup/\n",
      "Welcome to MechanicalSoup's documentation! — MechanicalSoup 1.2.0 ... -> https://mechanicalsoup.readthedocs.io/en/stable/\n",
      "MechanicalSoup tutorial — MechanicalSoup 1.2.0 documentation -> https://mechanicalsoup.readthedocs.io/en/stable/tutorial.html\n",
      "GitHub - MechanicalSoup/MechanicalSoup: A Python library for automating ... -> https://github.com/MechanicalSoup/MechanicalSoup\n",
      "A Deep Dive Into Web Scraping Using MechanicalSoup -> https://analyticsindiamag.com/mechanicalsoup-web-scraping-custom-dataset-tutorial/\n",
      "MechanicalSoup库 - 简书 -> https://www.jianshu.com/p/446c2f87b712\n",
      "How to use the mechanicalsoup.Form function in MechanicalSoup | Snyk -> https://snyk.io/advisor/python/MechanicalSoup/functions/mechanicalsoup.Form\n",
      "7 Best Python Web Scraping Library You Should Use In Your Next Project -> https://medium.com/geekculture/7-best-python-web-scraping-library-you-should-use-in-your-next-project-8cdbd903fcb3\n",
      "MechanicalSoup · GitHub -> https://github.com/MechanicalSoup\n",
      "Mechanicalsoup :: Anaconda.org -> https://anaconda.org/conda-forge/mechanicalsoup\n",
      "7 Useful Python Libraries You Should Use in Your Next Project -> https://medium.com/geekculture/7-useful-python-libraries-you-should-use-in-your-next-project-538547811de6\n",
      "MechanicalSoup 1.1.0 on PyPI - Libraries.io -> https://libraries.io/pypi/MechanicalSoup\n",
      "Python Examples of mechanicalsoup.StatefulBrowser -> https://www.programcreek.com/python/example/122972/mechanicalsoup.StatefulBrowser\n",
      "Newest 'MechanicalSoup' Questions - Stack Overflow -> https://stackoverflow.com/questions/tagged/MechanicalSoup\n",
      "Python Examples of mechanicalsoup.Browser - ProgramCreek.com -> https://www.programcreek.com/python/example/122973/mechanicalsoup.Browser\n",
      "Scrapy VS Beautiful Soup: A Comparison Of Web Crawling Tools -> https://analyticsindiamag.com/scrapy-vs-beautiful-soup-a-comparison-of-web-crawling-tools/\n",
      "Better Web Scraping with Mechanical Soup - YouTube -> https://www.youtube.com/watch?v=drDdb1MBBfI\n",
      "py-mechanicalsoup | MacPorts -> https://ports.macports.org/port/py-mechanicalsoup/summary/\n",
      "MechanicalSoup Alternatives - Python Web Crawling | LibHunt -> https://python.libhunt.com/mechanicalsoup-alternatives\n",
      "[packages/python-mechanicalsoup] rebuild with python 3.10 -> https://www.mail-archive.com/pld-cvs-commit@lists.pld-linux.org/msg493520.html\n",
      "Scraping Real-Estate Sites for Data Acquisition with Scrapy -> https://developer.nvidia.com/blog/scraping-real-estate-sites-for-data-acquisition-with-scrapy/\n",
      "Python 美联和机械联赢了'；不阅读网站_Python_Web Scraping_Beautifulsoup_Mechanicalsoup ... -> https://duoduokou.com/python/15460927625292840885.html\n"
     ]
    }
   ],
   "source": [
    "import mechanicalsoup\n",
    "\n",
    "\n",
    "# Connect to duckduckgo\n",
    "browser = mechanicalsoup.StatefulBrowser(user_agent=\"MechanicalSoup\")\n",
    "browser.open(\"https://duckduckgo.com/\")\n",
    "\n",
    "# Fill-in the search form\n",
    "browser.select_form('#search_form_homepage')\n",
    "browser[\"q\"] = \"MechanicalSoup\"\n",
    "browser.submit_selected()\n",
    "\n",
    "# Display the results\n",
    "for link in browser.page.select('a.result__a'):\n",
    "    print(link.text, '->', link.attrs['href'])\n",
    "   "
   ]
  },
  {
   "cell_type": "code",
   "execution_count": 115,
   "metadata": {},
   "outputs": [
    {
     "name": "stdout",
     "output_type": "stream",
     "text": [
      "it's empty\n"
     ]
    }
   ],
   "source": [
    "import datetime\n",
    "from selenium import webdriver\n",
    "from selenium.webdriver.support.ui import WebDriverWait\n",
    "from selenium.webdriver.common.by import By\n",
    "from selenium.webdriver.support import expected_conditions as EC\n",
    "\n",
    "options = webdriver.ChromeOptions() \n",
    "options.add_argument(\"start-maximized\")\n",
    "options.add_experimental_option(\"excludeSwitches\", [\"enable-automation\"])\n",
    "options.add_experimental_option('useAutomationExtension', False)\n",
    "driver = webdriver.Chrome(options=options, service=ChromeService(ChromeDriverManager().install()))\n",
    "import requests\n",
    "from bs4 import BeautifulSoup\n",
    "hotelname = \"Marriott+Hotel+London+Bridge\"\n",
    "url2 = \"https://www.booking.com/searchresults.en-gb.html?label=gen173nr-1FCAEoggI46AdIM1gEaKsBiAEBmAEJuAEZyAEM2AEB6AEB-AELiAIBqAIDuALc2uKcBsACAdICJDlkNmFiNDA2LTkzZDYtNDg1ZC05YzAxLTFmNmU5NDZkNTdkYdgCBuACAQ&lang=en-gb&sid=0028b15b49df734dca79ba302323cc98&sb=1&sb_lp=1&src=index&src_elem=sb&error_url=https%3A%2F%2Fwww.booking.com%2Findex.en-gb.html%3Flabel%3Dgen173nr-1FCAEoggI46AdIM1gEaKsBiAEBmAEJuAEZyAEM2AEB6AEB-AELiAIBqAIDuALc2uKcBsACAdICJDlkNmFiNDA2LTkzZDYtNDg1ZC05YzAxLTFmNmU5NDZkNTdkYdgCBuACAQ%26sid%3D0028b15b49df734dca79ba302323cc98%26sb_price_type%3Dtotal%26%26&ss={}&is_ski_area=&ssne={}&ssne_untouched={}&checkin_year=2022&checkin_month=12&checkin_monthday=15&checkout_year=2022&checkout_month=12&checkout_monthday=19&efdco=1&group_adults=2&group_children=0&no_rooms=1&b_h4u_keep_filters=&from_sf=1&search_pageview_id=&ac_suggestion_list_length=&ac_suggestion_theme_list_length=0&ac_position=0&ac_langcode=en&ac_click_type=b&dest_id=&dest_type=hotel&place_id_lat=&place_id_lon=&search_pageview_id=&search_selected=true&ss_raw={}\".format(hotelname, hotelname, hotelname, hotelname)\n",
    "user_agent = 'Mozilla/5.0 (Windows NT 6.1; WOW64) AppleWebKit/537.36 (KHTML, like Gecko) Chrome/41.0.2272.101 Safari/537.36' \n",
    "headers= {\"User-Agent\": user_agent}\n",
    "ahref = []\n",
    "aappen = []\n",
    "r = requests.get(url2, headers=headers, stream=True)\n",
    "soup = BeautifulSoup(r.text, \"html.parser\")\n",
    "    # print(r.text)\n",
    "# price = soup.find(\"span\", {\"data-testid\":\"price-and-discounted-price\"})\n",
    "for item in soup.find_all(\"div\", {\"data-testid\": \"property-card\"}):\n",
    "    if item.find(\"{}\".format(hotelname)) != -1 :             \n",
    "        aappen.append('{}'.format(item.find(\"a\", {\"class\": \"e13098a59f\", 'href': True})))\n",
    "\n",
    "# print(aappen)       \n",
    "for itemm in aappen:\n",
    "    # print(itemm)\n",
    "    if \"london\"  and \"bridge\" in itemm:\n",
    "        ahref.append(itemm)\n",
    "        print(ahref)\n",
    "# # price = soup.find(\"div\", {\"class\":\"d20f4628d0\"})\n",
    "if len(ahref) == 0:\n",
    "    driver.get"
   ]
  },
  {
   "cell_type": "code",
   "execution_count": 117,
   "metadata": {},
   "outputs": [
    {
     "name": "stdout",
     "output_type": "stream",
     "text": [
      "['ram is a man']\n"
     ]
    }
   ],
   "source": [
    "arr = ['<a class=\"e13098a59f\" data-testid=\"title-link\" ram href=\"https://www.booking.com/hotel/np/blue-horizon.en-gb.html?label=gen173nr-1FCAEoggI46AdIM1gEaKsBiAEBmAEJuAEZyAEM2AEB6AEB-AELiAIBqAIDuALc2uKcBsACAdICJDlkNmFiNDA2LTkzZDYtNDg1ZC05YzAxLTFmNmU5NDZkNTdkYdgCBuACAQ&amp;sid=0028b15b49df734dca79ba302323cc98&amp;aid=304142&amp;ucfs=1&amp;arphpl=1&amp;checkin=2022-12-15&amp;checkout=2022-12-19&amp;group_adults=2&amp;req_adults=2&amp;no_rooms=1&amp;group_children=0&amp;req_children=0&amp;hpos=2&amp;hapos=2&amp;sr_order=popularity&amp;srpvid=ee4d33843bfe016f&amp;srepoch=1671088779&amp;all_sr_blocks=33389107_354549854_0_41_0&amp;highlighted_blocks=33389107_354549854_0_41_0&amp;matching_block_id=33389107_354549854_0_41_0&amp;sr_pri_blocks=33389107_354549854_0_41_0__10812&amp;tpi_r=2&amp;from_sustainable_property_sr=1&amp;from=searchresults&amp;map_fdco=1#hotelTmpl\" rel=\"noopener noreferrer\" target=\"_blank\"><div class=\"fcab3ed991 a23c043802\" data-testid=\"title\">Hotel Blue Horizon</div><div class=\"e6e585da68\">Opens in new window</div></a>', \"orange\", \"banana\", \"ramen\", \"ram is a man\"]\n",
    "\n",
    "# initialize an empty list to store the selected items\n",
    "selected_items = []\n",
    "\n",
    "# iterate over the array and select items that contain \"ram\"\n",
    "for item in arr:\n",
    "    if \"ram\" and \"is\" in item:\n",
    "        selected_items.append(item)\n",
    "\n",
    "# print the selected items\n",
    "print(selected_items)"
   ]
  },
  {
   "cell_type": "code",
   "execution_count": null,
   "metadata": {},
   "outputs": [],
   "source": [
    "# import the required libraries\n",
    "from selenium import webdriver\n",
    "from selenium.webdriver.common.by import By\n",
    "\n",
    "# specify the path to the ChromeDriver executable\n",
    "driver = webdriver.Chrome('/path/to/chromedriver')\n",
    "\n",
    "# navigate to the website\n",
    "driver.get('https://www.example.com')\n",
    "\n",
    "# find the link or button using its id, class, or other attributes\n",
    "element = driver.find_element(By.ID, 'my-link')\n",
    "\n",
    "# click on the element\n",
    "element.click()\n",
    "\n",
    "# fetch the URL of the current page\n",
    "current_url = driver.current_url\n",
    "\n",
    "# print the URL\n",
    "print(current_url)\n",
    "\n",
    "# close the driver\n",
    "driver.close()\n"
   ]
  },
  {
   "cell_type": "code",
   "execution_count": 57,
   "metadata": {},
   "outputs": [
    {
     "name": "stdout",
     "output_type": "stream",
     "text": [
      "['<a class=\"e13098a59f\" data-testid=\"title-link\" href=\"https://www.booking.com/hotel/np/thamel-amp-spa-kathmandu.html?label=gen173nr-1FCAEoggI46AdIM1gEaKsBiAEBmAExuAEZyAEM2AEB6AEB-AECiAIBqAIDuAKH5eycBsACAdICJDQ4NTVjZTc1LTAwNzEtNGVjZi05MGIyLTdhNmVkYzFkZjA2ZtgCBeACAQ&amp;aid=304142&amp;ucfs=1&amp;arphpl=1&amp;checkin=2022-12-16&amp;checkout=2022-12-17&amp;group_adults=2&amp;req_adults=2&amp;no_rooms=1&amp;group_children=0&amp;req_children=0&amp;hpos=1&amp;hapos=1&amp;sr_order=popularity&amp;srpvid=44076c5ff3b50156&amp;srepoch=1671117887&amp;all_sr_blocks=849859705_354125303_2_2_0&amp;highlighted_blocks=849859705_354125303_2_2_0&amp;matching_block_id=849859705_354125303_2_2_0&amp;sr_pri_blocks=849859705_354125303_2_2_0__1950&amp;tpi_r=2&amp;from_sustainable_property_sr=1&amp;from=searchresults#hotelTmpl\" rel=\"noopener noreferrer\" target=\"_blank\"><div class=\"fcab3ed991 a23c043802\" data-testid=\"title\">Thamel Hostel &amp; Spa</div><div class=\"e6e585da68\">Opens in new window</div></a>', '<a class=\"e13098a59f\" data-testid=\"title-link\" href=\"https://www.booking.com/hotel/np/blue-horizon.html?label=gen173nr-1FCAEoggI46AdIM1gEaKsBiAEBmAExuAEZyAEM2AEB6AEB-AECiAIBqAIDuAKH5eycBsACAdICJDQ4NTVjZTc1LTAwNzEtNGVjZi05MGIyLTdhNmVkYzFkZjA2ZtgCBeACAQ&amp;aid=304142&amp;ucfs=1&amp;arphpl=1&amp;checkin=2022-12-16&amp;checkout=2022-12-17&amp;group_adults=2&amp;req_adults=2&amp;no_rooms=1&amp;group_children=0&amp;req_children=0&amp;hpos=2&amp;hapos=2&amp;sr_order=popularity&amp;srpvid=44076c5ff3b50156&amp;srepoch=1671117887&amp;all_sr_blocks=33389107_85909336_0_41_0&amp;highlighted_blocks=33389107_85909336_0_41_0&amp;matching_block_id=33389107_85909336_0_41_0&amp;sr_pri_blocks=33389107_85909336_0_41_0__3289&amp;tpi_r=2&amp;from_sustainable_property_sr=1&amp;from=searchresults#hotelTmpl\" rel=\"noopener noreferrer\" target=\"_blank\"><div class=\"fcab3ed991 a23c043802\" data-testid=\"title\">Hotel Blue Horizon</div><div class=\"e6e585da68\">Opens in new window</div></a>', '<a class=\"e13098a59f\" data-testid=\"title-link\" href=\"https://www.booking.com/hotel/np/yambu.html?label=gen173nr-1FCAEoggI46AdIM1gEaKsBiAEBmAExuAEZyAEM2AEB6AEB-AECiAIBqAIDuAKH5eycBsACAdICJDQ4NTVjZTc1LTAwNzEtNGVjZi05MGIyLTdhNmVkYzFkZjA2ZtgCBeACAQ&amp;aid=304142&amp;ucfs=1&amp;arphpl=1&amp;checkin=2022-12-16&amp;checkout=2022-12-17&amp;group_adults=2&amp;req_adults=2&amp;no_rooms=1&amp;group_children=0&amp;req_children=0&amp;hpos=3&amp;hapos=3&amp;sr_order=popularity&amp;srpvid=44076c5ff3b50156&amp;srepoch=1671117887&amp;all_sr_blocks=71546512_86157612_0_41_0&amp;highlighted_blocks=71546512_86157612_0_41_0&amp;matching_block_id=71546512_86157612_0_41_0&amp;sr_pri_blocks=71546512_86157612_0_41_0__2601&amp;tpi_r=2&amp;from_sustainable_property_sr=1&amp;from=searchresults#hotelTmpl\" rel=\"noopener noreferrer\" target=\"_blank\"><div class=\"fcab3ed991 a23c043802\" data-testid=\"title\">Hotel Yambu</div><div class=\"e6e585da68\">Opens in new window</div></a>', '<a class=\"e13098a59f\" data-testid=\"title-link\" href=\"https://www.booking.com/hotel/np/the-milestone.html?label=gen173nr-1FCAEoggI46AdIM1gEaKsBiAEBmAExuAEZyAEM2AEB6AEB-AECiAIBqAIDuAKH5eycBsACAdICJDQ4NTVjZTc1LTAwNzEtNGVjZi05MGIyLTdhNmVkYzFkZjA2ZtgCBeACAQ&amp;aid=304142&amp;ucfs=1&amp;arphpl=1&amp;checkin=2022-12-16&amp;checkout=2022-12-17&amp;group_adults=2&amp;req_adults=2&amp;no_rooms=1&amp;group_children=0&amp;req_children=0&amp;hpos=4&amp;hapos=4&amp;sr_order=popularity&amp;srpvid=44076c5ff3b50156&amp;srepoch=1671117887&amp;all_sr_blocks=376703304_0_2_0_0&amp;highlighted_blocks=376703304_0_2_0_0&amp;matching_block_id=376703304_0_2_0_0&amp;sr_pri_blocks=376703304_0_2_0_0__3224&amp;tpi_r=1&amp;from_sustainable_property_sr=1&amp;from=searchresults#hotelTmpl\" rel=\"noopener noreferrer\" target=\"_blank\"><div class=\"fcab3ed991 a23c043802\" data-testid=\"title\">The Milestone Hotel</div><div class=\"e6e585da68\">Opens in new window</div></a>', '<a class=\"e13098a59f\" data-testid=\"title-link\" href=\"https://www.booking.com/hotel/np/kathmandu-aagantuk.html?label=gen173nr-1FCAEoggI46AdIM1gEaKsBiAEBmAExuAEZyAEM2AEB6AEB-AECiAIBqAIDuAKH5eycBsACAdICJDQ4NTVjZTc1LTAwNzEtNGVjZi05MGIyLTdhNmVkYzFkZjA2ZtgCBeACAQ&amp;aid=304142&amp;ucfs=1&amp;arphpl=1&amp;checkin=2022-12-16&amp;checkout=2022-12-17&amp;group_adults=2&amp;req_adults=2&amp;no_rooms=1&amp;group_children=0&amp;req_children=0&amp;hpos=5&amp;hapos=5&amp;sr_order=popularity&amp;srpvid=44076c5ff3b50156&amp;srepoch=1671117887&amp;all_sr_blocks=884588001_357881281_2_42_0&amp;highlighted_blocks=884588001_357881281_2_42_0&amp;matching_block_id=884588001_357881281_2_42_0&amp;sr_pri_blocks=884588001_357881281_2_42_0__3068&amp;tpi_r=2&amp;from_sustainable_property_sr=1&amp;from=searchresults#hotelTmpl\" rel=\"noopener noreferrer\" target=\"_blank\"><div class=\"fcab3ed991 a23c043802\" data-testid=\"title\">Kathmandu Aagantuk Hotel</div><div class=\"e6e585da68\">Opens in new window</div></a>', '<a class=\"e13098a59f\" data-testid=\"title-link\" href=\"https://www.booking.com/hotel/np/flock-hostel-kathmandu.html?label=gen173nr-1FCAEoggI46AdIM1gEaKsBiAEBmAExuAEZyAEM2AEB6AEB-AECiAIBqAIDuAKH5eycBsACAdICJDQ4NTVjZTc1LTAwNzEtNGVjZi05MGIyLTdhNmVkYzFkZjA2ZtgCBeACAQ&amp;aid=304142&amp;ucfs=1&amp;arphpl=1&amp;checkin=2022-12-16&amp;checkout=2022-12-17&amp;group_adults=2&amp;req_adults=2&amp;no_rooms=1&amp;group_children=0&amp;req_children=0&amp;hpos=6&amp;hapos=6&amp;sr_order=popularity&amp;srpvid=44076c5ff3b50156&amp;srepoch=1671117887&amp;all_sr_blocks=623670002_273227941_2_2_0&amp;highlighted_blocks=623670002_273227941_2_2_0&amp;matching_block_id=623670002_273227941_2_2_0&amp;sr_pri_blocks=623670002_273227941_2_2_0__3300&amp;tpi_r=2&amp;from_sustainable_property_sr=1&amp;from=searchresults#hotelTmpl\" rel=\"noopener noreferrer\" target=\"_blank\"><div class=\"fcab3ed991 a23c043802\" data-testid=\"title\">Flock Hostel Kathmandu</div><div class=\"e6e585da68\">Opens in new window</div></a>', '<a class=\"e13098a59f\" data-testid=\"title-link\" href=\"https://www.booking.com/hotel/np/rest-up-kathmandu-hostel.html?label=gen173nr-1FCAEoggI46AdIM1gEaKsBiAEBmAExuAEZyAEM2AEB6AEB-AECiAIBqAIDuAKH5eycBsACAdICJDQ4NTVjZTc1LTAwNzEtNGVjZi05MGIyLTdhNmVkYzFkZjA2ZtgCBeACAQ&amp;aid=304142&amp;ucfs=1&amp;arphpl=1&amp;checkin=2022-12-16&amp;checkout=2022-12-17&amp;group_adults=2&amp;req_adults=2&amp;no_rooms=1&amp;group_children=0&amp;req_children=0&amp;hpos=7&amp;hapos=7&amp;sr_order=popularity&amp;srpvid=44076c5ff3b50156&amp;srepoch=1671117887&amp;all_sr_blocks=466885104_144013966_2_42_0&amp;highlighted_blocks=466885104_144013966_2_42_0&amp;matching_block_id=466885104_144013966_2_42_0&amp;sr_pri_blocks=466885104_144013966_2_42_0__2025&amp;tpi_r=2&amp;from_sustainable_property_sr=1&amp;from=searchresults#hotelTmpl\" rel=\"noopener noreferrer\" target=\"_blank\"><div class=\"fcab3ed991 a23c043802\" data-testid=\"title\">Rest Up Kathmandu Hostel</div><div class=\"e6e585da68\">Opens in new window</div></a>', '<a class=\"e13098a59f\" data-testid=\"title-link\" href=\"https://www.booking.com/hotel/np/buddha.html?label=gen173nr-1FCAEoggI46AdIM1gEaKsBiAEBmAExuAEZyAEM2AEB6AEB-AECiAIBqAIDuAKH5eycBsACAdICJDQ4NTVjZTc1LTAwNzEtNGVjZi05MGIyLTdhNmVkYzFkZjA2ZtgCBeACAQ&amp;aid=304142&amp;ucfs=1&amp;arphpl=1&amp;checkin=2022-12-16&amp;checkout=2022-12-17&amp;group_adults=2&amp;req_adults=2&amp;no_rooms=1&amp;group_children=0&amp;req_children=0&amp;hpos=8&amp;hapos=8&amp;sr_order=popularity&amp;srpvid=44076c5ff3b50156&amp;srepoch=1671117887&amp;all_sr_blocks=45347801_94544411_0_41_0&amp;highlighted_blocks=45347801_94544411_0_41_0&amp;matching_block_id=45347801_94544411_0_41_0&amp;sr_pri_blocks=45347801_94544411_0_41_0__3800&amp;tpi_r=2&amp;from_sustainable_property_sr=1&amp;from=searchresults#hotelTmpl\" rel=\"noopener noreferrer\" target=\"_blank\"><div class=\"fcab3ed991 a23c043802\" data-testid=\"title\">Hotel Buddha</div><div class=\"e6e585da68\">Opens in new window</div></a>', '<a class=\"e13098a59f\" data-testid=\"title-link\" href=\"https://www.booking.com/hotel/np/samsara-resort.html?label=gen173nr-1FCAEoggI46AdIM1gEaKsBiAEBmAExuAEZyAEM2AEB6AEB-AECiAIBqAIDuAKH5eycBsACAdICJDQ4NTVjZTc1LTAwNzEtNGVjZi05MGIyLTdhNmVkYzFkZjA2ZtgCBeACAQ&amp;aid=304142&amp;ucfs=1&amp;arphpl=1&amp;checkin=2022-12-16&amp;checkout=2022-12-17&amp;group_adults=2&amp;req_adults=2&amp;no_rooms=1&amp;group_children=0&amp;req_children=0&amp;hpos=9&amp;hapos=9&amp;sr_order=popularity&amp;srpvid=44076c5ff3b50156&amp;srepoch=1671117887&amp;all_sr_blocks=34141406_86712426_0_42_0&amp;highlighted_blocks=34141406_86712426_0_42_0&amp;matching_block_id=34141406_86712426_0_42_0&amp;sr_pri_blocks=34141406_86712426_0_42_0__2677&amp;tpi_r=2&amp;from_sustainable_property_sr=1&amp;from=searchresults#hotelTmpl\" rel=\"noopener noreferrer\" target=\"_blank\"><div class=\"fcab3ed991 a23c043802\" data-testid=\"title\">Samsara Boutique Hotel</div><div class=\"e6e585da68\">Opens in new window</div></a>', '<a class=\"e13098a59f\" data-testid=\"title-link\" href=\"https://www.booking.com/hotel/np/jampa.html?label=gen173nr-1FCAEoggI46AdIM1gEaKsBiAEBmAExuAEZyAEM2AEB6AEB-AECiAIBqAIDuAKH5eycBsACAdICJDQ4NTVjZTc1LTAwNzEtNGVjZi05MGIyLTdhNmVkYzFkZjA2ZtgCBeACAQ&amp;aid=304142&amp;ucfs=1&amp;arphpl=1&amp;checkin=2022-12-16&amp;checkout=2022-12-17&amp;group_adults=2&amp;req_adults=2&amp;no_rooms=1&amp;group_children=0&amp;req_children=0&amp;hpos=10&amp;hapos=10&amp;sr_order=popularity&amp;srpvid=44076c5ff3b50156&amp;srepoch=1671117887&amp;all_sr_blocks=393874213_122726012_2_1_0&amp;highlighted_blocks=393874213_122726012_2_1_0&amp;matching_block_id=393874213_122726012_2_1_0&amp;sr_pri_blocks=393874213_122726012_2_1_0__4343&amp;tpi_r=2&amp;from_sustainable_property_sr=1&amp;from=searchresults#hotelTmpl\" rel=\"noopener noreferrer\" target=\"_blank\"><div class=\"fcab3ed991 a23c043802\" data-testid=\"title\">Hotel Jampa</div><div class=\"e6e585da68\">Opens in new window</div></a>', '<a class=\"e13098a59f\" data-testid=\"title-link\" href=\"https://www.booking.com/hotel/np/kathmandu-suite-home-kathmandu1.html?label=gen173nr-1FCAEoggI46AdIM1gEaKsBiAEBmAExuAEZyAEM2AEB6AEB-AECiAIBqAIDuAKH5eycBsACAdICJDQ4NTVjZTc1LTAwNzEtNGVjZi05MGIyLTdhNmVkYzFkZjA2ZtgCBeACAQ&amp;aid=304142&amp;ucfs=1&amp;arphpl=1&amp;checkin=2022-12-16&amp;checkout=2022-12-17&amp;group_adults=2&amp;req_adults=2&amp;no_rooms=1&amp;group_children=0&amp;req_children=0&amp;hpos=11&amp;hapos=11&amp;sr_order=popularity&amp;srpvid=44076c5ff3b50156&amp;srepoch=1671117887&amp;all_sr_blocks=509067813_175408461_2_41_0&amp;highlighted_blocks=509067813_175408461_2_41_0&amp;matching_block_id=509067813_175408461_2_41_0&amp;sr_pri_blocks=509067813_175408461_2_41_0__4200&amp;tpi_r=2&amp;from=searchresults#hotelTmpl\" rel=\"noopener noreferrer\" target=\"_blank\"><div class=\"fcab3ed991 a23c043802\" data-testid=\"title\">Kathmandu Suite Home</div><div class=\"e6e585da68\">Opens in new window</div></a>', '<a class=\"e13098a59f\" data-testid=\"title-link\" href=\"https://www.booking.com/hotel/np/homestay-lolang.html?label=gen173nr-1FCAEoggI46AdIM1gEaKsBiAEBmAExuAEZyAEM2AEB6AEB-AECiAIBqAIDuAKH5eycBsACAdICJDQ4NTVjZTc1LTAwNzEtNGVjZi05MGIyLTdhNmVkYzFkZjA2ZtgCBeACAQ&amp;aid=304142&amp;ucfs=1&amp;arphpl=1&amp;checkin=2022-12-16&amp;checkout=2022-12-17&amp;group_adults=2&amp;req_adults=2&amp;no_rooms=1&amp;group_children=0&amp;req_children=0&amp;hpos=12&amp;hapos=12&amp;sr_order=popularity&amp;srpvid=44076c5ff3b50156&amp;srepoch=1671117887&amp;all_sr_blocks=124016502_85998172_2_41_0&amp;highlighted_blocks=124016502_85998172_2_41_0&amp;matching_block_id=124016502_85998172_2_41_0&amp;sr_pri_blocks=124016502_85998172_2_41_0__2294&amp;tpi_r=2&amp;from_sustainable_property_sr=1&amp;from=searchresults#hotelTmpl\" rel=\"noopener noreferrer\" target=\"_blank\"><div class=\"fcab3ed991 a23c043802\" data-testid=\"title\">Nepalaya Hotel</div><div class=\"e6e585da68\">Opens in new window</div></a>', '<a class=\"e13098a59f\" data-testid=\"title-link\" href=\"https://www.booking.com/hotel/np/oasis-kathmandu.html?label=gen173nr-1FCAEoggI46AdIM1gEaKsBiAEBmAExuAEZyAEM2AEB6AEB-AECiAIBqAIDuAKH5eycBsACAdICJDQ4NTVjZTc1LTAwNzEtNGVjZi05MGIyLTdhNmVkYzFkZjA2ZtgCBeACAQ&amp;aid=304142&amp;ucfs=1&amp;arphpl=1&amp;checkin=2022-12-16&amp;checkout=2022-12-17&amp;group_adults=2&amp;req_adults=2&amp;no_rooms=1&amp;group_children=0&amp;req_children=0&amp;hpos=13&amp;hapos=13&amp;sr_order=popularity&amp;srpvid=44076c5ff3b50156&amp;srepoch=1671117887&amp;all_sr_blocks=255242605_343135778_0_1_0&amp;highlighted_blocks=255242605_343135778_0_1_0&amp;matching_block_id=255242605_343135778_0_1_0&amp;sr_pri_blocks=255242605_343135778_0_1_0__4752&amp;tpi_r=2&amp;from_sustainable_property_sr=1&amp;from=searchresults#hotelTmpl\" rel=\"noopener noreferrer\" target=\"_blank\"><div class=\"fcab3ed991 a23c043802\" data-testid=\"title\">Oasis Kathmandu Hotel</div><div class=\"e6e585da68\">Opens in new window</div></a>', '<a class=\"e13098a59f\" data-testid=\"title-link\" href=\"https://www.booking.com/hotel/np/dom-himalaya-pvt-ltd.html?label=gen173nr-1FCAEoggI46AdIM1gEaKsBiAEBmAExuAEZyAEM2AEB6AEB-AECiAIBqAIDuAKH5eycBsACAdICJDQ4NTVjZTc1LTAwNzEtNGVjZi05MGIyLTdhNmVkYzFkZjA2ZtgCBeACAQ&amp;aid=304142&amp;ucfs=1&amp;arphpl=1&amp;checkin=2022-12-16&amp;checkout=2022-12-17&amp;group_adults=2&amp;req_adults=2&amp;no_rooms=1&amp;group_children=0&amp;req_children=0&amp;hpos=14&amp;hapos=14&amp;sr_order=popularity&amp;srpvid=44076c5ff3b50156&amp;srepoch=1671117887&amp;all_sr_blocks=217076213_0_2_1_0&amp;highlighted_blocks=217076213_0_2_1_0&amp;matching_block_id=217076213_0_2_1_0&amp;sr_pri_blocks=217076213_0_2_1_0__3824&amp;tpi_r=1&amp;from_sustainable_property_sr=1&amp;from=searchresults#hotelTmpl\" rel=\"noopener noreferrer\" target=\"_blank\"><div class=\"fcab3ed991 a23c043802\" data-testid=\"title\">DOM Himalaya Hotel</div><div class=\"e6e585da68\">Opens in new window</div></a>', '<a class=\"e13098a59f\" data-testid=\"title-link\" href=\"https://www.booking.com/hotel/np/thamel.html?label=gen173nr-1FCAEoggI46AdIM1gEaKsBiAEBmAExuAEZyAEM2AEB6AEB-AECiAIBqAIDuAKH5eycBsACAdICJDQ4NTVjZTc1LTAwNzEtNGVjZi05MGIyLTdhNmVkYzFkZjA2ZtgCBeACAQ&amp;aid=304142&amp;ucfs=1&amp;arphpl=1&amp;checkin=2022-12-16&amp;checkout=2022-12-17&amp;group_adults=2&amp;req_adults=2&amp;no_rooms=1&amp;group_children=0&amp;req_children=0&amp;hpos=15&amp;hapos=15&amp;sr_order=popularity&amp;srpvid=44076c5ff3b50156&amp;srepoch=1671117887&amp;all_sr_blocks=6371915_85897699_2_42_0&amp;highlighted_blocks=6371915_85897699_2_42_0&amp;matching_block_id=6371915_85897699_2_42_0&amp;sr_pri_blocks=6371915_85897699_2_42_0__4001&amp;tpi_r=2&amp;from_sustainable_property_sr=1&amp;from=searchresults#hotelTmpl\" rel=\"noopener noreferrer\" target=\"_blank\"><div class=\"fcab3ed991 a23c043802\" data-testid=\"title\">Hotel Thamel</div><div class=\"e6e585da68\">Opens in new window</div></a>', '<a class=\"e13098a59f\" data-testid=\"title-link\" href=\"https://www.booking.com/hotel/np/kathmandu-grand.html?label=gen173nr-1FCAEoggI46AdIM1gEaKsBiAEBmAExuAEZyAEM2AEB6AEB-AECiAIBqAIDuAKH5eycBsACAdICJDQ4NTVjZTc1LTAwNzEtNGVjZi05MGIyLTdhNmVkYzFkZjA2ZtgCBeACAQ&amp;aid=304142&amp;ucfs=1&amp;arphpl=1&amp;checkin=2022-12-16&amp;checkout=2022-12-17&amp;group_adults=2&amp;req_adults=2&amp;no_rooms=1&amp;group_children=0&amp;req_children=0&amp;hpos=16&amp;hapos=16&amp;sr_order=popularity&amp;srpvid=44076c5ff3b50156&amp;srepoch=1671117887&amp;all_sr_blocks=150886202_0_2_1_0&amp;highlighted_blocks=150886202_0_2_1_0&amp;matching_block_id=150886202_0_2_1_0&amp;sr_pri_blocks=150886202_0_2_1_0__2843&amp;tpi_r=1&amp;from_sustainable_property_sr=1&amp;from=searchresults#hotelTmpl\" rel=\"noopener noreferrer\" target=\"_blank\"><div class=\"fcab3ed991 a23c043802\" data-testid=\"title\">Kathmandu Grand Hotel</div><div class=\"e6e585da68\">Opens in new window</div></a>', '<a class=\"e13098a59f\" data-testid=\"title-link\" href=\"https://www.booking.com/hotel/np/truly-asia-boutique.html?label=gen173nr-1FCAEoggI46AdIM1gEaKsBiAEBmAExuAEZyAEM2AEB6AEB-AECiAIBqAIDuAKH5eycBsACAdICJDQ4NTVjZTc1LTAwNzEtNGVjZi05MGIyLTdhNmVkYzFkZjA2ZtgCBeACAQ&amp;aid=304142&amp;ucfs=1&amp;arphpl=1&amp;checkin=2022-12-16&amp;checkout=2022-12-17&amp;group_adults=2&amp;req_adults=2&amp;no_rooms=1&amp;group_children=0&amp;req_children=0&amp;hpos=17&amp;hapos=17&amp;sr_order=popularity&amp;srpvid=44076c5ff3b50156&amp;srepoch=1671117887&amp;all_sr_blocks=217856615_97403897_2_41_0&amp;highlighted_blocks=217856615_97403897_2_41_0&amp;matching_block_id=217856615_97403897_2_41_0&amp;sr_pri_blocks=217856615_97403897_2_41_0__2465&amp;tpi_r=2&amp;from_sustainable_property_sr=1&amp;from=searchresults#hotelTmpl\" rel=\"noopener noreferrer\" target=\"_blank\"><div class=\"fcab3ed991 a23c043802\" data-testid=\"title\">Truly Asia Boutique Hotel</div><div class=\"e6e585da68\">Opens in new window</div></a>', '<a class=\"e13098a59f\" data-testid=\"title-link\" href=\"https://www.booking.com/hotel/np/potala-guest-house.html?label=gen173nr-1FCAEoggI46AdIM1gEaKsBiAEBmAExuAEZyAEM2AEB6AEB-AECiAIBqAIDuAKH5eycBsACAdICJDQ4NTVjZTc1LTAwNzEtNGVjZi05MGIyLTdhNmVkYzFkZjA2ZtgCBeACAQ&amp;aid=304142&amp;ucfs=1&amp;arphpl=1&amp;checkin=2022-12-16&amp;checkout=2022-12-17&amp;group_adults=2&amp;req_adults=2&amp;no_rooms=1&amp;group_children=0&amp;req_children=0&amp;hpos=18&amp;hapos=18&amp;sr_order=popularity&amp;srpvid=44076c5ff3b50156&amp;srepoch=1671117887&amp;all_sr_blocks=44120602_86899483_0_1_0&amp;highlighted_blocks=44120602_86899483_0_1_0&amp;matching_block_id=44120602_86899483_0_1_0&amp;sr_pri_blocks=44120602_86899483_0_1_0__2870&amp;tpi_r=2&amp;from=searchresults#hotelTmpl\" rel=\"noopener noreferrer\" target=\"_blank\"><div class=\"fcab3ed991 a23c043802\" data-testid=\"title\">Potala Guest House</div><div class=\"e6e585da68\">Opens in new window</div></a>', '<a class=\"e13098a59f\" data-testid=\"title-link\" href=\"https://www.booking.com/hotel/np/boutique-heritage-home.html?label=gen173nr-1FCAEoggI46AdIM1gEaKsBiAEBmAExuAEZyAEM2AEB6AEB-AECiAIBqAIDuAKH5eycBsACAdICJDQ4NTVjZTc1LTAwNzEtNGVjZi05MGIyLTdhNmVkYzFkZjA2ZtgCBeACAQ&amp;aid=304142&amp;ucfs=1&amp;arphpl=1&amp;checkin=2022-12-16&amp;checkout=2022-12-17&amp;group_adults=2&amp;req_adults=2&amp;no_rooms=1&amp;group_children=0&amp;req_children=0&amp;hpos=19&amp;hapos=19&amp;sr_order=popularity&amp;srpvid=44076c5ff3b50156&amp;srepoch=1671117887&amp;all_sr_blocks=152638402_204240888_2_1_0&amp;highlighted_blocks=152638402_204240888_2_1_0&amp;matching_block_id=152638402_204240888_2_1_0&amp;sr_pri_blocks=152638402_204240888_2_1_0__4500&amp;tpi_r=2&amp;from=searchresults#hotelTmpl\" rel=\"noopener noreferrer\" target=\"_blank\"><div class=\"fcab3ed991 a23c043802\" data-testid=\"title\">Boutique Heritage Home</div><div class=\"e6e585da68\">Opens in new window</div></a>', '<a class=\"e13098a59f\" data-testid=\"title-link\" href=\"https://www.booking.com/hotel/np/manang-p-ltd.html?label=gen173nr-1FCAEoggI46AdIM1gEaKsBiAEBmAExuAEZyAEM2AEB6AEB-AECiAIBqAIDuAKH5eycBsACAdICJDQ4NTVjZTc1LTAwNzEtNGVjZi05MGIyLTdhNmVkYzFkZjA2ZtgCBeACAQ&amp;aid=304142&amp;ucfs=1&amp;arphpl=1&amp;checkin=2022-12-16&amp;checkout=2022-12-17&amp;group_adults=2&amp;req_adults=2&amp;no_rooms=1&amp;group_children=0&amp;req_children=0&amp;hpos=20&amp;hapos=20&amp;sr_order=popularity&amp;srpvid=44076c5ff3b50156&amp;srepoch=1671117887&amp;all_sr_blocks=35601601_364626387_2_41_0&amp;highlighted_blocks=35601601_364626387_2_41_0&amp;matching_block_id=35601601_364626387_2_41_0&amp;sr_pri_blocks=35601601_364626387_2_41_0__4800&amp;tpi_r=2&amp;from=searchresults#hotelTmpl\" rel=\"noopener noreferrer\" target=\"_blank\"><div class=\"fcab3ed991 a23c043802\" data-testid=\"title\">Hotel Manang</div><div class=\"e6e585da68\">Opens in new window</div></a>', '<a class=\"e13098a59f\" data-testid=\"title-link\" href=\"https://www.booking.com/hotel/np/lumbini-heritage-home.html?label=gen173nr-1FCAEoggI46AdIM1gEaKsBiAEBmAExuAEZyAEM2AEB6AEB-AECiAIBqAIDuAKH5eycBsACAdICJDQ4NTVjZTc1LTAwNzEtNGVjZi05MGIyLTdhNmVkYzFkZjA2ZtgCBeACAQ&amp;aid=304142&amp;ucfs=1&amp;arphpl=1&amp;checkin=2022-12-16&amp;checkout=2022-12-17&amp;group_adults=2&amp;req_adults=2&amp;no_rooms=1&amp;group_children=0&amp;req_children=0&amp;hpos=21&amp;hapos=21&amp;sr_order=popularity&amp;srpvid=44076c5ff3b50156&amp;srepoch=1671117887&amp;all_sr_blocks=260558802_201157000_2_1_0&amp;highlighted_blocks=260558802_201157000_2_1_0&amp;matching_block_id=260558802_201157000_2_1_0&amp;sr_pri_blocks=260558802_201157000_2_1_0__3188&amp;tpi_r=2&amp;from=searchresults#hotelTmpl\" rel=\"noopener noreferrer\" target=\"_blank\"><div class=\"fcab3ed991 a23c043802\" data-testid=\"title\">Lumbini Heritage Home</div><div class=\"e6e585da68\">Opens in new window</div></a>', '<a class=\"e13098a59f\" data-testid=\"title-link\" href=\"https://www.booking.com/hotel/np/moonlight-kathmandu.html?label=gen173nr-1FCAEoggI46AdIM1gEaKsBiAEBmAExuAEZyAEM2AEB6AEB-AECiAIBqAIDuAKH5eycBsACAdICJDQ4NTVjZTc1LTAwNzEtNGVjZi05MGIyLTdhNmVkYzFkZjA2ZtgCBeACAQ&amp;aid=304142&amp;ucfs=1&amp;arphpl=1&amp;checkin=2022-12-16&amp;checkout=2022-12-17&amp;group_adults=2&amp;req_adults=2&amp;no_rooms=1&amp;group_children=0&amp;req_children=0&amp;hpos=22&amp;hapos=22&amp;sr_order=popularity&amp;srpvid=44076c5ff3b50156&amp;srepoch=1671117887&amp;all_sr_blocks=32174502_300923090_2_42_0&amp;highlighted_blocks=32174502_300923090_2_42_0&amp;matching_block_id=32174502_300923090_2_42_0&amp;sr_pri_blocks=32174502_300923090_2_42_0__6415&amp;tpi_r=2&amp;from_sustainable_property_sr=1&amp;from=searchresults#hotelTmpl\" rel=\"noopener noreferrer\" target=\"_blank\"><div class=\"fcab3ed991 a23c043802\" data-testid=\"title\">Hotel Moonlight</div><div class=\"e6e585da68\">Opens in new window</div></a>', '<a class=\"e13098a59f\" data-testid=\"title-link\" href=\"https://www.booking.com/hotel/np/sarovar-residency-service-apartment.html?label=gen173nr-1FCAEoggI46AdIM1gEaKsBiAEBmAExuAEZyAEM2AEB6AEB-AECiAIBqAIDuAKH5eycBsACAdICJDQ4NTVjZTc1LTAwNzEtNGVjZi05MGIyLTdhNmVkYzFkZjA2ZtgCBeACAQ&amp;aid=304142&amp;ucfs=1&amp;arphpl=1&amp;checkin=2022-12-16&amp;checkout=2022-12-17&amp;group_adults=2&amp;req_adults=2&amp;no_rooms=1&amp;group_children=0&amp;req_children=0&amp;hpos=23&amp;hapos=23&amp;sr_order=popularity&amp;srpvid=44076c5ff3b50156&amp;srepoch=1671117887&amp;all_sr_blocks=512908801_176979799_2_0_0&amp;highlighted_blocks=512908801_176979799_2_0_0&amp;matching_block_id=512908801_176979799_2_0_0&amp;sr_pri_blocks=512908801_176979799_2_0_0__4500&amp;tpi_r=2&amp;from_sustainable_property_sr=1&amp;from=searchresults#hotelTmpl\" rel=\"noopener noreferrer\" target=\"_blank\"><div class=\"fcab3ed991 a23c043802\" data-testid=\"title\">Sarovar Residency Serviced Apartment Hotel</div><div class=\"e6e585da68\">Opens in new window</div></a>', '<a class=\"e13098a59f\" data-testid=\"title-link\" href=\"https://www.booking.com/hotel/np/kantipur-village.html?label=gen173nr-1FCAEoggI46AdIM1gEaKsBiAEBmAExuAEZyAEM2AEB6AEB-AECiAIBqAIDuAKH5eycBsACAdICJDQ4NTVjZTc1LTAwNzEtNGVjZi05MGIyLTdhNmVkYzFkZjA2ZtgCBeACAQ&amp;aid=304142&amp;ucfs=1&amp;arphpl=1&amp;checkin=2022-12-16&amp;checkout=2022-12-17&amp;group_adults=2&amp;req_adults=2&amp;no_rooms=1&amp;group_children=0&amp;req_children=0&amp;hpos=24&amp;hapos=24&amp;sr_order=popularity&amp;srpvid=44076c5ff3b50156&amp;srepoch=1671117887&amp;all_sr_blocks=697973304_348564118_2_2_0&amp;highlighted_blocks=697973304_348564118_2_2_0&amp;matching_block_id=697973304_348564118_2_2_0&amp;sr_pri_blocks=697973304_348564118_2_2_0__6750&amp;tpi_r=2&amp;from=searchresults#hotelTmpl\" rel=\"noopener noreferrer\" target=\"_blank\"><div class=\"fcab3ed991 a23c043802\" data-testid=\"title\">Kantipur Village</div><div class=\"e6e585da68\">Opens in new window</div></a>', '<a class=\"e13098a59f\" data-testid=\"title-link\" href=\"https://www.booking.com/hotel/np/nomad-kathmandu.html?label=gen173nr-1FCAEoggI46AdIM1gEaKsBiAEBmAExuAEZyAEM2AEB6AEB-AECiAIBqAIDuAKH5eycBsACAdICJDQ4NTVjZTc1LTAwNzEtNGVjZi05MGIyLTdhNmVkYzFkZjA2ZtgCBeACAQ&amp;aid=304142&amp;ucfs=1&amp;arphpl=1&amp;checkin=2022-12-16&amp;checkout=2022-12-17&amp;group_adults=2&amp;req_adults=2&amp;no_rooms=1&amp;group_children=0&amp;req_children=0&amp;hpos=25&amp;hapos=25&amp;sr_order=popularity&amp;srpvid=44076c5ff3b50156&amp;srepoch=1671117887&amp;all_sr_blocks=565985821_218857438_2_1_0&amp;highlighted_blocks=565985821_218857438_2_1_0&amp;matching_block_id=565985821_218857438_2_1_0&amp;sr_pri_blocks=565985821_218857438_2_1_0__6800&amp;tpi_r=2&amp;from_sustainable_property_sr=1&amp;from=searchresults#hotelTmpl\" rel=\"noopener noreferrer\" target=\"_blank\"><div class=\"fcab3ed991 a23c043802\" data-testid=\"title\">Nomad Hotel</div><div class=\"e6e585da68\">Opens in new window</div></a>']\n",
      "[]\n"
     ]
    }
   ],
   "source": [
    "# import datetime\n",
    "# from selenium import webdriver\n",
    "# from selenium.webdriver.support.ui import WebDriverWait\n",
    "# from selenium.webdriver.common.by import By\n",
    "# from selenium.webdriver.support import expected_conditions as EC\n",
    "# from selenium.webdriver.chrome.service import Service as ChromeService\n",
    "\n",
    "\n",
    "# options = webdriver.ChromeOptions() \n",
    "# options.add_argument(\"--headless\")\n",
    "# driver = webdriver.Chrome(options=options, service=ChromeService(ChromeDriverManager().install()))\n",
    "import requests\n",
    "from bs4 import BeautifulSoup\n",
    "hotelsearch = \"Marriott\"\n",
    "hotelname = hotelname.replace(\" \", \"+\")\n",
    "url2 = \"https://www.booking.com/searchresults.en-us.html?ss={}&label=gen173nr-1FCAEoggI46AdIM1gEaKsBiAEBmAExuAEZyAEM2AEB6AEB-AECiAIBqAIDuAKH5eycBsACAdICJDQ4NTVjZTc1LTAwNzEtNGVjZi05MGIyLTdhNmVkYzFkZjA2ZtgCBeACAQ&lang=en-us&&&dest_type=hotel&search_selected=true&checkin=2022-12-16&checkout=2022-12-17&group_adults=2&no_rooms=1&group_children=0e\".format(hotelname,)\n",
    "user_agent = 'Mozilla/5.0 (Windows NT 6.1; WOW64) AppleWebKit/537.36 (KHTML, like Gecko) Chrome/41.0.2272.101 Safari/537.36' \n",
    "headers= {\"User-Agent\": user_agent}\n",
    "ahref = []\n",
    "aappen = []\n",
    "# print(url2)\n",
    "r = requests.get(url2, headers=headers, stream=True)\n",
    "soup = BeautifulSoup(r.text, \"html.parser\")\n",
    "    # print(r.text)\n",
    "# price = soup.find(\"span\", {\"data-testid\":\"price-and-discounted-price\"})\n",
    "for item in soup.find_all(\"div\", {\"data-testid\": \"property-card\"}):\n",
    "    if item.find(\"{}\".format(hotelsearch)) != -1 :             \n",
    "        aappen.append('{}'.format(item.find(\"a\", {\"class\": \"e13098a59f\", 'href': True})))\n",
    "\n",
    "# hotels = ' '.join(hotelsearch.split()[1:3])\n",
    "# print(hotels)\n",
    "print(aappen)     \n",
    "for itemm in aappen:\n",
    "    # print(itemm)\n",
    "    if \"{}\".format(hotelsearch) in itemm:\n",
    "        ahref.append(itemm)\n",
    "     \n",
    "       \n",
    " \n",
    "    \n",
    "# # price = soup.find(\"div\", {\"class\":\"d20f4628d0\"})\n",
    "print(ahref)\n"
   ]
  },
  {
   "cell_type": "code",
   "execution_count": 20,
   "metadata": {},
   "outputs": [
    {
     "name": "stdout",
     "output_type": "stream",
     "text": [
      "Defaulting to user installation because normal site-packages is not writeable\n",
      "Collecting httpx\n",
      "  Downloading httpx-0.23.1-py3-none-any.whl (84 kB)\n",
      "\u001b[2K     \u001b[90m━━━━━━━━━━━━━━━━━━━━━━━━━━━━━━━━━━━━━━━\u001b[0m \u001b[32m85.0/85.0 kB\u001b[0m \u001b[31m456.8 kB/s\u001b[0m eta \u001b[36m0:00:00\u001b[0ma \u001b[36m0:00:01\u001b[0m\n",
      "\u001b[?25hCollecting parsel\n",
      "  Downloading parsel-1.7.0-py2.py3-none-any.whl (14 kB)\n",
      "Requirement already satisfied: sniffio in /home/rijalboy/.local/lib/python3.10/site-packages (from httpx) (1.3.0)\n",
      "Requirement already satisfied: certifi in /home/rijalboy/.local/lib/python3.10/site-packages (from httpx) (2022.12.7)\n",
      "Collecting rfc3986[idna2008]<2,>=1.3\n",
      "  Downloading rfc3986-1.5.0-py2.py3-none-any.whl (31 kB)\n",
      "Collecting httpcore<0.17.0,>=0.15.0\n",
      "  Downloading httpcore-0.16.2-py3-none-any.whl (68 kB)\n",
      "\u001b[2K     \u001b[90m━━━━━━━━━━━━━━━━━━━━━━━━━━━━━━━━━━━━━━━━\u001b[0m \u001b[32m69.0/69.0 kB\u001b[0m \u001b[31m4.5 MB/s\u001b[0m eta \u001b[36m0:00:00\u001b[0m\n",
      "\u001b[?25hRequirement already satisfied: cssselect>=0.9 in /usr/lib/python3/dist-packages (from parsel) (1.1.0)\n",
      "Requirement already satisfied: lxml in /home/rijalboy/.local/lib/python3.10/site-packages (from parsel) (4.9.1)\n",
      "Requirement already satisfied: w3lib>=1.19.0 in /home/rijalboy/.local/lib/python3.10/site-packages (from parsel) (2.1.1)\n",
      "Requirement already satisfied: packaging in /home/rijalboy/.local/lib/python3.10/site-packages (from parsel) (21.3)\n",
      "Collecting anyio<5.0,>=3.0\n",
      "  Downloading anyio-3.6.2-py3-none-any.whl (80 kB)\n",
      "\u001b[2K     \u001b[90m━━━━━━━━━━━━━━━━━━━━━━━━━━━━━━━━━━━━━━━━\u001b[0m \u001b[32m80.6/80.6 kB\u001b[0m \u001b[31m1.0 MB/s\u001b[0m eta \u001b[36m0:00:00\u001b[0ma \u001b[36m0:00:01\u001b[0m\n",
      "\u001b[?25hRequirement already satisfied: h11<0.15,>=0.13 in /home/rijalboy/.local/lib/python3.10/site-packages (from httpcore<0.17.0,>=0.15.0->httpx) (0.14.0)\n",
      "Requirement already satisfied: idna in /home/rijalboy/.local/lib/python3.10/site-packages (from rfc3986[idna2008]<2,>=1.3->httpx) (2.7)\n",
      "Requirement already satisfied: pyparsing!=3.0.5,>=2.0.2 in /usr/lib/python3/dist-packages (from packaging->parsel) (2.4.7)\n",
      "Collecting idna\n",
      "  Downloading idna-3.4-py3-none-any.whl (61 kB)\n",
      "\u001b[2K     \u001b[90m━━━━━━━━━━━━━━━━━━━━━━━━━━━━━━━━━━━━━━━━\u001b[0m \u001b[32m61.5/61.5 kB\u001b[0m \u001b[31m2.9 MB/s\u001b[0m eta \u001b[36m0:00:00\u001b[0m\n",
      "\u001b[?25hInstalling collected packages: rfc3986, idna, parsel, anyio, httpcore, httpx\n",
      "  Attempting uninstall: idna\n",
      "    Found existing installation: idna 2.7\n",
      "    Uninstalling idna-2.7:\n",
      "      Successfully uninstalled idna-2.7\n",
      "\u001b[31mERROR: pip's dependency resolver does not currently take into account all the packages that are installed. This behaviour is the source of the following dependency conflicts.\n",
      "nosqlmap 0.7 requires CouchDB==1.0, which is not installed.\n",
      "nosqlmap 0.7 requires ipcalc==1.1.3, which is not installed.\n",
      "nosqlmap 0.7 requires httplib2==0.19.0, but you have httplib2 0.20.2 which is incompatible.\n",
      "nosqlmap 0.7 requires pymongo==2.7.2, but you have pymongo 4.1.1 which is incompatible.\n",
      "nosqlmap 0.7 requires requests==2.20.0, but you have requests 2.28.1 which is incompatible.\u001b[0m\u001b[31m\n",
      "\u001b[0mSuccessfully installed anyio-3.6.2 httpcore-0.16.2 httpx-0.23.1 idna-3.4 parsel-1.7.0 rfc3986-1.5.0\n"
     ]
    }
   ],
   "source": [
    "!pip install httpx parsel"
   ]
  },
  {
   "cell_type": "code",
   "execution_count": 21,
   "metadata": {},
   "outputs": [
    {
     "name": "stdout",
     "output_type": "stream",
     "text": [
      " https://www.booking.com/searchresults.html?label=gen173nr-1DCAEoggI46AdIM1gEaN0BiAEBmAExuAEKyAEF2AED6AEB-AECiAIBqAIDuAK-u5eUBsACAdICJGRlN2VhYzYyLTJiYzItNDE0MS1iYmY4LWYwZjkxNTc0OGY4ONgCBOACAQ\n",
      "&sid=51b2c8cd7b3c8377e83692903e6f19ca\n",
      "&sb=1\n",
      "&sb_lp=1\n",
      "&src=index\n",
      "&src_elem=sb\n",
      "&error_url=https%3A%2F%2Fwww.booking.com%2Findex.html%3Flabel%3Dgen173nr-1DCAEoggI46AdIM1gEaN0BiAEBmAExuAEKyAEF2AED6AEB-AECiAIBqAIDuAK-u5eUBsACAdICJGRlN2VhYzYyLTJiYzItNDE0MS1iYmY4LWYwZjkxNTc0OGY4ONgCBOACAQ%26sid%3D51b2c8cd7b3c8377e83692903e6f19ca%26sb_price_type%3Dtotal%26%26\n",
      "&ss=London%2C+Greater+London%2C+United+Kingdom\n",
      "&is_ski_area=\n",
      "&ssne=London\n",
      "&ssne_untouched=London\n",
      "&checkin_year=2022\n",
      "&checkin_month=6\n",
      "&checkin_monthday=9\n",
      "&checkout_year=2022\n",
      "&checkout_month=6\n",
      "&checkout_monthday=11\n",
      "&group_adults=2\n",
      "&group_children=0\n",
      "&no_rooms=1\n",
      "&b_h4u_keep_filters=\n",
      "&from_sf=1\n",
      "&search_pageview_id=f25c2a9ee3630134\n",
      "&ac_suggestion_list_length=5\n",
      "&ac_suggestion_theme_list_length=0\n",
      "&ac_position=0\n",
      "&ac_langcode=en\n",
      "&ac_click_type=b\n",
      "&dest_id=-2601889\n",
      "&dest_type=city\n",
      "&iata=LON\n",
      "&place_id_lat=51.507393\n",
      "&place_id_lon=-0.127634\n",
      "&search_pageview_id=f25c2a9ee3630134\n",
      "&search_selected=true\n",
      "&ss_raw=London \n"
     ]
    }
   ],
   "source": [
    "url = \"\"\" https://www.booking.com/searchresults.html?label=gen173nr-1DCAEoggI46AdIM1gEaN0BiAEBmAExuAEKyAEF2AED6AEB-AECiAIBqAIDuAK-u5eUBsACAdICJGRlN2VhYzYyLTJiYzItNDE0MS1iYmY4LWYwZjkxNTc0OGY4ONgCBOACAQ\n",
    "&sid=51b2c8cd7b3c8377e83692903e6f19ca\n",
    "&sb=1\n",
    "&sb_lp=1\n",
    "&src=index\n",
    "&src_elem=sb\n",
    "&error_url=https%3A%2F%2Fwww.booking.com%2Findex.html%3Flabel%3Dgen173nr-1DCAEoggI46AdIM1gEaN0BiAEBmAExuAEKyAEF2AED6AEB-AECiAIBqAIDuAK-u5eUBsACAdICJGRlN2VhYzYyLTJiYzItNDE0MS1iYmY4LWYwZjkxNTc0OGY4ONgCBOACAQ%26sid%3D51b2c8cd7b3c8377e83692903e6f19ca%26sb_price_type%3Dtotal%26%26\n",
    "&ss=London%2C+Greater+London%2C+United+Kingdom\n",
    "&is_ski_area=\n",
    "&ssne=London\n",
    "&ssne_untouched=London\n",
    "&checkin_year=2022\n",
    "&checkin_month=6\n",
    "&checkin_monthday=9\n",
    "&checkout_year=2022\n",
    "&checkout_month=6\n",
    "&checkout_monthday=11\n",
    "&group_adults=2\n",
    "&group_children=0\n",
    "&no_rooms=1\n",
    "&b_h4u_keep_filters=\n",
    "&from_sf=1\n",
    "&search_pageview_id=f25c2a9ee3630134\n",
    "&ac_suggestion_list_length=5\n",
    "&ac_suggestion_theme_list_length=0\n",
    "&ac_position=0\n",
    "&ac_langcode=en\n",
    "&ac_click_type=b\n",
    "&dest_id=-2601889\n",
    "&dest_type=city\n",
    "&iata=LON\n",
    "&place_id_lat=51.507393\n",
    "&place_id_lon=-0.127634\n",
    "&search_pageview_id=f25c2a9ee3630134\n",
    "&search_selected=true\n",
    "&ss_raw=London \"\"\"\n",
    "print(url)"
   ]
  },
  {
   "cell_type": "code",
   "execution_count": 28,
   "metadata": {},
   "outputs": [
    {
     "ename": "RuntimeError",
     "evalue": "asyncio.run() cannot be called from a running event loop",
     "output_type": "error",
     "traceback": [
      "\u001b[0;31m---------------------------------------------------------------------------\u001b[0m",
      "\u001b[0;31mRuntimeError\u001b[0m                              Traceback (most recent call last)",
      "\u001b[1;32m/home/rijalboy/Documents/PythonCode/test.ipynb Cell 37\u001b[0m in \u001b[0;36m<cell line: 275>\u001b[0;34m()\u001b[0m\n\u001b[1;32m    <a href='vscode-notebook-cell:/home/rijalboy/Documents/PythonCode/test.ipynb#X52sZmlsZQ%3D%3D?line=271'>272</a>\u001b[0m         \u001b[39mreturn\u001b[39;00m result_search, result_hotels, result_reviews\n\u001b[1;32m    <a href='vscode-notebook-cell:/home/rijalboy/Documents/PythonCode/test.ipynb#X52sZmlsZQ%3D%3D?line=274'>275</a>\u001b[0m \u001b[39mif\u001b[39;00m \u001b[39m__name__\u001b[39m \u001b[39m==\u001b[39m \u001b[39m\"\u001b[39m\u001b[39m__main__\u001b[39m\u001b[39m\"\u001b[39m:\n\u001b[0;32m--> <a href='vscode-notebook-cell:/home/rijalboy/Documents/PythonCode/test.ipynb#X52sZmlsZQ%3D%3D?line=275'>276</a>\u001b[0m     asyncio\u001b[39m.\u001b[39;49mrun(run())\n",
      "File \u001b[0;32m/usr/lib/python3.10/asyncio/runners.py:33\u001b[0m, in \u001b[0;36mrun\u001b[0;34m(main, debug)\u001b[0m\n\u001b[1;32m      9\u001b[0m \u001b[39m\"\"\"Execute the coroutine and return the result.\u001b[39;00m\n\u001b[1;32m     10\u001b[0m \n\u001b[1;32m     11\u001b[0m \u001b[39mThis function runs the passed coroutine, taking care of\u001b[39;00m\n\u001b[0;32m   (...)\u001b[0m\n\u001b[1;32m     30\u001b[0m \u001b[39m    asyncio.run(main())\u001b[39;00m\n\u001b[1;32m     31\u001b[0m \u001b[39m\"\"\"\u001b[39;00m\n\u001b[1;32m     32\u001b[0m \u001b[39mif\u001b[39;00m events\u001b[39m.\u001b[39m_get_running_loop() \u001b[39mis\u001b[39;00m \u001b[39mnot\u001b[39;00m \u001b[39mNone\u001b[39;00m:\n\u001b[0;32m---> 33\u001b[0m     \u001b[39mraise\u001b[39;00m \u001b[39mRuntimeError\u001b[39;00m(\n\u001b[1;32m     34\u001b[0m         \u001b[39m\"\u001b[39m\u001b[39masyncio.run() cannot be called from a running event loop\u001b[39m\u001b[39m\"\u001b[39m)\n\u001b[1;32m     36\u001b[0m \u001b[39mif\u001b[39;00m \u001b[39mnot\u001b[39;00m coroutines\u001b[39m.\u001b[39miscoroutine(main):\n\u001b[1;32m     37\u001b[0m     \u001b[39mraise\u001b[39;00m \u001b[39mValueError\u001b[39;00m(\u001b[39m\"\u001b[39m\u001b[39ma coroutine was expected, got \u001b[39m\u001b[39m{!r}\u001b[39;00m\u001b[39m\"\u001b[39m\u001b[39m.\u001b[39mformat(main))\n",
      "\u001b[0;31mRuntimeError\u001b[0m: asyncio.run() cannot be called from a running event loop"
     ]
    }
   ],
   "source": []
  },
  {
   "cell_type": "code",
   "execution_count": 27,
   "metadata": {},
   "outputs": [
    {
     "name": "stdout",
     "output_type": "stream",
     "text": [
      "Defaulting to user installation because normal site-packages is not writeable\n",
      "Collecting scrapfly-sdk\n",
      "  Downloading scrapfly_sdk-0.8.2-py3-none-any.whl (28 kB)\n",
      "Requirement already satisfied: decorator>=4.2.0 in /home/rijalboy/.local/lib/python3.10/site-packages (from scrapfly-sdk) (4.4.2)\n",
      "Collecting backoff>=1.10.0\n",
      "  Downloading backoff-2.2.1-py3-none-any.whl (15 kB)\n",
      "Requirement already satisfied: requests>=2.25.0 in /home/rijalboy/.local/lib/python3.10/site-packages (from scrapfly-sdk) (2.28.1)\n",
      "Requirement already satisfied: urllib3>=1.26.0 in /home/rijalboy/.local/lib/python3.10/site-packages (from scrapfly-sdk) (1.26.13)\n",
      "Collecting loguru>=0.5\n",
      "  Downloading loguru-0.6.0-py3-none-any.whl (58 kB)\n",
      "\u001b[2K     \u001b[90m━━━━━━━━━━━━━━━━━━━━━━━━━━━━━━━━━━━━━━━━\u001b[0m \u001b[32m58.3/58.3 kB\u001b[0m \u001b[31m8.3 MB/s\u001b[0m eta \u001b[36m0:00:00\u001b[0m\n",
      "\u001b[?25hRequirement already satisfied: python-dateutil<3.0.0,>=2.1 in /home/rijalboy/.local/lib/python3.10/site-packages (from scrapfly-sdk) (2.8.2)\n",
      "Requirement already satisfied: six>=1.5 in /usr/lib/python3/dist-packages (from python-dateutil<3.0.0,>=2.1->scrapfly-sdk) (1.16.0)\n",
      "Requirement already satisfied: certifi>=2017.4.17 in /home/rijalboy/.local/lib/python3.10/site-packages (from requests>=2.25.0->scrapfly-sdk) (2022.12.7)\n",
      "Requirement already satisfied: idna<4,>=2.5 in /home/rijalboy/.local/lib/python3.10/site-packages (from requests>=2.25.0->scrapfly-sdk) (3.4)\n",
      "Requirement already satisfied: charset-normalizer<3,>=2 in /home/rijalboy/.local/lib/python3.10/site-packages (from requests>=2.25.0->scrapfly-sdk) (2.1.1)\n",
      "Installing collected packages: loguru, backoff, scrapfly-sdk\n",
      "Successfully installed backoff-2.2.1 loguru-0.6.0 scrapfly-sdk-0.8.2\n"
     ]
    }
   ],
   "source": [
    "!pip install scrapfly-sdk"
   ]
  },
  {
   "cell_type": "code",
   "execution_count": 1,
   "metadata": {},
   "outputs": [
    {
     "name": "stdout",
     "output_type": "stream",
     "text": [
      "Defaulting to user installation because normal site-packages is not writeable\n",
      "Requirement already satisfied: flask in /home/root1/.local/lib/python3.10/site-packages (2.2.2)\n",
      "Requirement already satisfied: Jinja2>=3.0 in /usr/lib/python3/dist-packages (from flask) (3.0.3)\n",
      "Requirement already satisfied: click>=8.0 in /usr/lib/python3/dist-packages (from flask) (8.0.3)\n",
      "Requirement already satisfied: Werkzeug>=2.2.2 in /home/root1/.local/lib/python3.10/site-packages (from flask) (2.2.2)\n",
      "Requirement already satisfied: itsdangerous>=2.0 in /home/root1/.local/lib/python3.10/site-packages (from flask) (2.1.2)\n",
      "Requirement already satisfied: MarkupSafe>=2.1.1 in /home/root1/.local/lib/python3.10/site-packages (from Werkzeug>=2.2.2->flask) (2.1.1)\n"
     ]
    }
   ],
   "source": [
    "!pip install flask\n"
   ]
  }
 ],
 "metadata": {
  "kernelspec": {
   "display_name": "Python 3",
   "language": "python",
   "name": "python3"
  },
  "language_info": {
   "codemirror_mode": {
    "name": "ipython",
    "version": 3
   },
   "file_extension": ".py",
   "mimetype": "text/x-python",
   "name": "python",
   "nbconvert_exporter": "python",
   "pygments_lexer": "ipython3",
   "version": "3.10.6"
  },
  "orig_nbformat": 4,
  "vscode": {
   "interpreter": {
    "hash": "31f2aee4e71d21fbe5cf8b01ff0e069b9275f58929596ceb00d14d90e3e16cd6"
   }
  }
 },
 "nbformat": 4,
 "nbformat_minor": 2
}
